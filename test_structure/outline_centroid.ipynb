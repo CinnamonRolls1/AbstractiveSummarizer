{
 "metadata": {
  "language_info": {
   "codemirror_mode": {
    "name": "ipython",
    "version": 3
   },
   "file_extension": ".py",
   "mimetype": "text/x-python",
   "name": "python",
   "nbconvert_exporter": "python",
   "pygments_lexer": "ipython3",
   "version": "3.7.6-final"
  },
  "orig_nbformat": 2,
  "kernelspec": {
   "name": "Python 3.7.6 64-bit ('base': conda)",
   "display_name": "Python 3.7.6 64-bit ('base': conda)",
   "metadata": {
    "interpreter": {
     "hash": "b3ba2566441a7c06988d0923437866b63cedc61552a5af99d1f4fb67d367b25f"
    }
   }
  }
 },
 "nbformat": 4,
 "nbformat_minor": 2,
 "cells": [
  {
   "cell_type": "code",
   "execution_count": 120,
   "metadata": {
    "tags": []
   },
   "outputs": [],
   "source": [
    "from sentence_transformers import SentenceTransformer\n",
    "from tqdm import tqdm\n",
    "\n",
    "from pdfminer.pdfinterp import PDFResourceManager, PDFPageInterpreter\n",
    "from pdfminer.converter import TextConverter\n",
    "from pdfminer.layout import LAParams\n",
    "from pdfminer.pdfpage import PDFPage\n",
    "import io\n",
    "import nltk \n",
    "from sklearn.cluster import KMeans\n",
    "import matplotlib.pyplot as plt\n",
    "from sklearn import metrics\n",
    "\n",
    "import pandas as pd\n",
    "from lexrank import LexRank\n",
    "import numpy as np\n",
    "from sklearn.metrics.pairwise import cosine_similarity"
   ]
  },
  {
   "cell_type": "code",
   "execution_count": 3,
   "metadata": {},
   "outputs": [],
   "source": [
    "def convert_folder(path):\n",
    "    fnames=[]\n",
    "    for root, dirs, files in os.walk(path):\n",
    "        for file in files:\n",
    "            fnames.append(os.path.join(root,file))\n",
    "    #print(fnames)\n",
    "    corpus=''\n",
    "    for fname in tqdm(fnames):\n",
    "        corpus+=convert_pdf(fname)+' '\n",
    "    return corpus\n",
    "\n",
    "def convert_pdf(path):\n",
    "    #print(path)\n",
    "    rsrcmgr = PDFResourceManager()\n",
    "    retstr = io.StringIO()\n",
    "    codec = 'utf-8'\n",
    "    laparams = LAParams()\n",
    "    device = TextConverter(rsrcmgr, retstr, codec=codec, laparams=laparams)\n",
    "    fp = open(path, 'rb')\n",
    "    interpreter = PDFPageInterpreter(rsrcmgr, device)\n",
    "    password = \"\"\n",
    "    maxpages = 0\n",
    "    caching = True\n",
    "    pagenos = set()\n",
    "\n",
    "    for page in PDFPage.get_pages(fp, pagenos, maxpages=maxpages,\n",
    "                                  password=password,\n",
    "                                  caching=caching,\n",
    "                                  check_extractable=False):\n",
    "        interpreter.process_page(page)\n",
    "\n",
    "\n",
    "\n",
    "    fp.close()\n",
    "    device.close()\n",
    "    text = retstr.getvalue()\n",
    "    retstr.close()\n",
    "    return text"
   ]
  },
  {
   "cell_type": "code",
   "execution_count": 141,
   "metadata": {},
   "outputs": [],
   "source": [
    "model = SentenceTransformer('distilbert-base-nli-mean-tokens')"
   ]
  },
  {
   "cell_type": "code",
   "execution_count": 4,
   "metadata": {
    "tags": []
   },
   "outputs": [
    {
     "output_type": "stream",
     "name": "stderr",
     "text": [
      "100%|██████████| 10/10 [00:46<00:00,  4.62s/it]\n"
     ]
    }
   ],
   "source": [
    "path='C:\\\\Users\\\\Chinmayan\\\\Desktop\\\\Work\\\\Siemens\\\\Work\\\\Code\\\\Downloads\\\\ML_200_corpus\\\\ML_10_corpus'\n",
    "corpus=convert_folder(path)\n"
   ]
  },
  {
   "cell_type": "code",
   "execution_count": 5,
   "metadata": {},
   "outputs": [],
   "source": [
    "corp_sent=nltk.sent_tokenize(corpus)"
   ]
  },
  {
   "cell_type": "code",
   "execution_count": 6,
   "metadata": {
    "tags": []
   },
   "outputs": [],
   "source": [
    "sentence_embeddings = model.encode(corp_sent)"
   ]
  },
  {
   "cell_type": "code",
   "execution_count": 7,
   "metadata": {},
   "outputs": [
    {
     "output_type": "execute_result",
     "data": {
      "text/plain": [
       "array([[-0.95604193,  0.01231971,  0.93189025, ..., -0.33508125,\n",
       "         0.22182694,  0.16351265],\n",
       "       [-1.4097081 , -0.10716304,  0.5714542 , ..., -0.67828447,\n",
       "         0.6827034 , -0.06468484],\n",
       "       [-0.29688007,  0.2780872 ,  1.1833467 , ..., -0.4801674 ,\n",
       "         0.40841123, -0.62188154],\n",
       "       ...,\n",
       "       [-1.3762175 , -0.5349781 ,  0.5760123 , ...,  0.26964062,\n",
       "         0.29418465, -1.0866909 ],\n",
       "       [-1.4325988 , -0.40392485,  0.7591575 , ..., -0.13151333,\n",
       "        -0.08119088, -0.2680192 ],\n",
       "       [-0.96655154,  0.29829696, -0.06178864, ..., -0.6862218 ,\n",
       "         0.1292546 ,  0.4177815 ]], dtype=float32)"
      ]
     },
     "metadata": {},
     "execution_count": 7
    }
   ],
   "source": [
    "sentence_embeddings"
   ]
  },
  {
   "cell_type": "code",
   "execution_count": 13,
   "metadata": {},
   "outputs": [
    {
     "output_type": "execute_result",
     "data": {
      "text/plain": [
       "0.059453204"
      ]
     },
     "metadata": {},
     "execution_count": 13
    }
   ],
   "source": [
    "from sklearn import metrics\n",
    "labels = k_means.labels_\n",
    "metrics.silhouette_score(sentence_embeddings, labels, metric = 'euclidean')"
   ]
  },
  {
   "cell_type": "code",
   "execution_count": 16,
   "metadata": {},
   "outputs": [
    {
     "output_type": "execute_result",
     "data": {
      "text/plain": [
       "117.1598339060602"
      ]
     },
     "metadata": {},
     "execution_count": 16
    }
   ],
   "source": [
    "metrics.calinski_harabasz_score(sentence_embeddings, labels)"
   ]
  },
  {
   "cell_type": "code",
   "execution_count": 75,
   "metadata": {},
   "outputs": [],
   "source": [
    "sum_of_squared_distances = []\n",
    "K = range(1,30)\n",
    "for k in K:\n",
    "    k_means = KMeans(n_clusters=k)\n",
    "    cluster_model = k_means.fit(sentence_embeddings)\n",
    "    sum_of_squared_distances.append(k_means.inertia_) #inerta = sum of squared distance for each point to it's closest centroid (assgined cluster)"
   ]
  },
  {
   "cell_type": "code",
   "execution_count": 76,
   "metadata": {},
   "outputs": [
    {
     "output_type": "display_data",
     "data": {
      "text/plain": "<Figure size 432x288 with 1 Axes>",
      "image/svg+xml": "<?xml version=\"1.0\" encoding=\"utf-8\" standalone=\"no\"?>\r\n<!DOCTYPE svg PUBLIC \"-//W3C//DTD SVG 1.1//EN\"\r\n  \"http://www.w3.org/Graphics/SVG/1.1/DTD/svg11.dtd\">\r\n<!-- Created with matplotlib (https://matplotlib.org/) -->\r\n<svg height=\"277.314375pt\" version=\"1.1\" viewBox=\"0 0 410.345698 277.314375\" width=\"410.345698pt\" xmlns=\"http://www.w3.org/2000/svg\" xmlns:xlink=\"http://www.w3.org/1999/xlink\">\r\n <defs>\r\n  <style type=\"text/css\">\r\n*{stroke-linecap:butt;stroke-linejoin:round;}\r\n  </style>\r\n </defs>\r\n <g id=\"figure_1\">\r\n  <g id=\"patch_1\">\r\n   <path d=\"M 0 277.314375 \r\nL 410.345698 277.314375 \r\nL 410.345698 0 \r\nL 0 0 \r\nz\r\n\" style=\"fill:none;\"/>\r\n  </g>\r\n  <g id=\"axes_1\">\r\n   <g id=\"patch_2\">\r\n    <path d=\"M 66.33125 239.758125 \r\nL 401.13125 239.758125 \r\nL 401.13125 22.318125 \r\nL 66.33125 22.318125 \r\nz\r\n\" style=\"fill:#ffffff;\"/>\r\n   </g>\r\n   <g id=\"matplotlib.axis_1\">\r\n    <g id=\"xtick_1\">\r\n     <g id=\"line2d_1\">\r\n      <defs>\r\n       <path d=\"M 0 0 \r\nL 0 3.5 \r\n\" id=\"ma2feaa739c\" style=\"stroke:#000000;stroke-width:0.8;\"/>\r\n      </defs>\r\n      <g>\r\n       <use style=\"stroke:#000000;stroke-width:0.8;\" x=\"70.679302\" xlink:href=\"#ma2feaa739c\" y=\"239.758125\"/>\r\n      </g>\r\n     </g>\r\n     <g id=\"text_1\">\r\n      <!-- 0 -->\r\n      <defs>\r\n       <path d=\"M 31.78125 66.40625 \r\nQ 24.171875 66.40625 20.328125 58.90625 \r\nQ 16.5 51.421875 16.5 36.375 \r\nQ 16.5 21.390625 20.328125 13.890625 \r\nQ 24.171875 6.390625 31.78125 6.390625 \r\nQ 39.453125 6.390625 43.28125 13.890625 \r\nQ 47.125 21.390625 47.125 36.375 \r\nQ 47.125 51.421875 43.28125 58.90625 \r\nQ 39.453125 66.40625 31.78125 66.40625 \r\nz\r\nM 31.78125 74.21875 \r\nQ 44.046875 74.21875 50.515625 64.515625 \r\nQ 56.984375 54.828125 56.984375 36.375 \r\nQ 56.984375 17.96875 50.515625 8.265625 \r\nQ 44.046875 -1.421875 31.78125 -1.421875 \r\nQ 19.53125 -1.421875 13.0625 8.265625 \r\nQ 6.59375 17.96875 6.59375 36.375 \r\nQ 6.59375 54.828125 13.0625 64.515625 \r\nQ 19.53125 74.21875 31.78125 74.21875 \r\nz\r\n\" id=\"DejaVuSans-48\"/>\r\n      </defs>\r\n      <g transform=\"translate(67.498052 254.356562)scale(0.1 -0.1)\">\r\n       <use xlink:href=\"#DejaVuSans-48\"/>\r\n      </g>\r\n     </g>\r\n    </g>\r\n    <g id=\"xtick_2\">\r\n     <g id=\"line2d_2\">\r\n      <g>\r\n       <use style=\"stroke:#000000;stroke-width:0.8;\" x=\"125.029951\" xlink:href=\"#ma2feaa739c\" y=\"239.758125\"/>\r\n      </g>\r\n     </g>\r\n     <g id=\"text_2\">\r\n      <!-- 5 -->\r\n      <defs>\r\n       <path d=\"M 10.796875 72.90625 \r\nL 49.515625 72.90625 \r\nL 49.515625 64.59375 \r\nL 19.828125 64.59375 \r\nL 19.828125 46.734375 \r\nQ 21.96875 47.46875 24.109375 47.828125 \r\nQ 26.265625 48.1875 28.421875 48.1875 \r\nQ 40.625 48.1875 47.75 41.5 \r\nQ 54.890625 34.8125 54.890625 23.390625 \r\nQ 54.890625 11.625 47.5625 5.09375 \r\nQ 40.234375 -1.421875 26.90625 -1.421875 \r\nQ 22.3125 -1.421875 17.546875 -0.640625 \r\nQ 12.796875 0.140625 7.71875 1.703125 \r\nL 7.71875 11.625 \r\nQ 12.109375 9.234375 16.796875 8.0625 \r\nQ 21.484375 6.890625 26.703125 6.890625 \r\nQ 35.15625 6.890625 40.078125 11.328125 \r\nQ 45.015625 15.765625 45.015625 23.390625 \r\nQ 45.015625 31 40.078125 35.4375 \r\nQ 35.15625 39.890625 26.703125 39.890625 \r\nQ 22.75 39.890625 18.8125 39.015625 \r\nQ 14.890625 38.140625 10.796875 36.28125 \r\nz\r\n\" id=\"DejaVuSans-53\"/>\r\n      </defs>\r\n      <g transform=\"translate(121.848701 254.356562)scale(0.1 -0.1)\">\r\n       <use xlink:href=\"#DejaVuSans-53\"/>\r\n      </g>\r\n     </g>\r\n    </g>\r\n    <g id=\"xtick_3\">\r\n     <g id=\"line2d_3\">\r\n      <g>\r\n       <use style=\"stroke:#000000;stroke-width:0.8;\" x=\"179.380601\" xlink:href=\"#ma2feaa739c\" y=\"239.758125\"/>\r\n      </g>\r\n     </g>\r\n     <g id=\"text_3\">\r\n      <!-- 10 -->\r\n      <defs>\r\n       <path d=\"M 12.40625 8.296875 \r\nL 28.515625 8.296875 \r\nL 28.515625 63.921875 \r\nL 10.984375 60.40625 \r\nL 10.984375 69.390625 \r\nL 28.421875 72.90625 \r\nL 38.28125 72.90625 \r\nL 38.28125 8.296875 \r\nL 54.390625 8.296875 \r\nL 54.390625 0 \r\nL 12.40625 0 \r\nz\r\n\" id=\"DejaVuSans-49\"/>\r\n      </defs>\r\n      <g transform=\"translate(173.018101 254.356562)scale(0.1 -0.1)\">\r\n       <use xlink:href=\"#DejaVuSans-49\"/>\r\n       <use x=\"63.623047\" xlink:href=\"#DejaVuSans-48\"/>\r\n      </g>\r\n     </g>\r\n    </g>\r\n    <g id=\"xtick_4\">\r\n     <g id=\"line2d_4\">\r\n      <g>\r\n       <use style=\"stroke:#000000;stroke-width:0.8;\" x=\"233.73125\" xlink:href=\"#ma2feaa739c\" y=\"239.758125\"/>\r\n      </g>\r\n     </g>\r\n     <g id=\"text_4\">\r\n      <!-- 15 -->\r\n      <g transform=\"translate(227.36875 254.356562)scale(0.1 -0.1)\">\r\n       <use xlink:href=\"#DejaVuSans-49\"/>\r\n       <use x=\"63.623047\" xlink:href=\"#DejaVuSans-53\"/>\r\n      </g>\r\n     </g>\r\n    </g>\r\n    <g id=\"xtick_5\">\r\n     <g id=\"line2d_5\">\r\n      <g>\r\n       <use style=\"stroke:#000000;stroke-width:0.8;\" x=\"288.081899\" xlink:href=\"#ma2feaa739c\" y=\"239.758125\"/>\r\n      </g>\r\n     </g>\r\n     <g id=\"text_5\">\r\n      <!-- 20 -->\r\n      <defs>\r\n       <path d=\"M 19.1875 8.296875 \r\nL 53.609375 8.296875 \r\nL 53.609375 0 \r\nL 7.328125 0 \r\nL 7.328125 8.296875 \r\nQ 12.9375 14.109375 22.625 23.890625 \r\nQ 32.328125 33.6875 34.8125 36.53125 \r\nQ 39.546875 41.84375 41.421875 45.53125 \r\nQ 43.3125 49.21875 43.3125 52.78125 \r\nQ 43.3125 58.59375 39.234375 62.25 \r\nQ 35.15625 65.921875 28.609375 65.921875 \r\nQ 23.96875 65.921875 18.8125 64.3125 \r\nQ 13.671875 62.703125 7.8125 59.421875 \r\nL 7.8125 69.390625 \r\nQ 13.765625 71.78125 18.9375 73 \r\nQ 24.125 74.21875 28.421875 74.21875 \r\nQ 39.75 74.21875 46.484375 68.546875 \r\nQ 53.21875 62.890625 53.21875 53.421875 \r\nQ 53.21875 48.921875 51.53125 44.890625 \r\nQ 49.859375 40.875 45.40625 35.40625 \r\nQ 44.1875 33.984375 37.640625 27.21875 \r\nQ 31.109375 20.453125 19.1875 8.296875 \r\nz\r\n\" id=\"DejaVuSans-50\"/>\r\n      </defs>\r\n      <g transform=\"translate(281.719399 254.356562)scale(0.1 -0.1)\">\r\n       <use xlink:href=\"#DejaVuSans-50\"/>\r\n       <use x=\"63.623047\" xlink:href=\"#DejaVuSans-48\"/>\r\n      </g>\r\n     </g>\r\n    </g>\r\n    <g id=\"xtick_6\">\r\n     <g id=\"line2d_6\">\r\n      <g>\r\n       <use style=\"stroke:#000000;stroke-width:0.8;\" x=\"342.432549\" xlink:href=\"#ma2feaa739c\" y=\"239.758125\"/>\r\n      </g>\r\n     </g>\r\n     <g id=\"text_6\">\r\n      <!-- 25 -->\r\n      <g transform=\"translate(336.070049 254.356562)scale(0.1 -0.1)\">\r\n       <use xlink:href=\"#DejaVuSans-50\"/>\r\n       <use x=\"63.623047\" xlink:href=\"#DejaVuSans-53\"/>\r\n      </g>\r\n     </g>\r\n    </g>\r\n    <g id=\"xtick_7\">\r\n     <g id=\"line2d_7\">\r\n      <g>\r\n       <use style=\"stroke:#000000;stroke-width:0.8;\" x=\"396.783198\" xlink:href=\"#ma2feaa739c\" y=\"239.758125\"/>\r\n      </g>\r\n     </g>\r\n     <g id=\"text_7\">\r\n      <!-- 30 -->\r\n      <defs>\r\n       <path d=\"M 40.578125 39.3125 \r\nQ 47.65625 37.796875 51.625 33 \r\nQ 55.609375 28.21875 55.609375 21.1875 \r\nQ 55.609375 10.40625 48.1875 4.484375 \r\nQ 40.765625 -1.421875 27.09375 -1.421875 \r\nQ 22.515625 -1.421875 17.65625 -0.515625 \r\nQ 12.796875 0.390625 7.625 2.203125 \r\nL 7.625 11.71875 \r\nQ 11.71875 9.328125 16.59375 8.109375 \r\nQ 21.484375 6.890625 26.8125 6.890625 \r\nQ 36.078125 6.890625 40.9375 10.546875 \r\nQ 45.796875 14.203125 45.796875 21.1875 \r\nQ 45.796875 27.640625 41.28125 31.265625 \r\nQ 36.765625 34.90625 28.71875 34.90625 \r\nL 20.21875 34.90625 \r\nL 20.21875 43.015625 \r\nL 29.109375 43.015625 \r\nQ 36.375 43.015625 40.234375 45.921875 \r\nQ 44.09375 48.828125 44.09375 54.296875 \r\nQ 44.09375 59.90625 40.109375 62.90625 \r\nQ 36.140625 65.921875 28.71875 65.921875 \r\nQ 24.65625 65.921875 20.015625 65.03125 \r\nQ 15.375 64.15625 9.8125 62.3125 \r\nL 9.8125 71.09375 \r\nQ 15.4375 72.65625 20.34375 73.4375 \r\nQ 25.25 74.21875 29.59375 74.21875 \r\nQ 40.828125 74.21875 47.359375 69.109375 \r\nQ 53.90625 64.015625 53.90625 55.328125 \r\nQ 53.90625 49.265625 50.4375 45.09375 \r\nQ 46.96875 40.921875 40.578125 39.3125 \r\nz\r\n\" id=\"DejaVuSans-51\"/>\r\n      </defs>\r\n      <g transform=\"translate(390.420698 254.356562)scale(0.1 -0.1)\">\r\n       <use xlink:href=\"#DejaVuSans-51\"/>\r\n       <use x=\"63.623047\" xlink:href=\"#DejaVuSans-48\"/>\r\n      </g>\r\n     </g>\r\n    </g>\r\n    <g id=\"text_8\">\r\n     <!-- k -->\r\n     <defs>\r\n      <path d=\"M 9.078125 75.984375 \r\nL 18.109375 75.984375 \r\nL 18.109375 31.109375 \r\nL 44.921875 54.6875 \r\nL 56.390625 54.6875 \r\nL 27.390625 29.109375 \r\nL 57.625 0 \r\nL 45.90625 0 \r\nL 18.109375 26.703125 \r\nL 18.109375 0 \r\nL 9.078125 0 \r\nz\r\n\" id=\"DejaVuSans-107\"/>\r\n     </defs>\r\n     <g transform=\"translate(230.835938 268.034687)scale(0.1 -0.1)\">\r\n      <use xlink:href=\"#DejaVuSans-107\"/>\r\n     </g>\r\n    </g>\r\n   </g>\r\n   <g id=\"matplotlib.axis_2\">\r\n    <g id=\"ytick_1\">\r\n     <g id=\"line2d_8\">\r\n      <defs>\r\n       <path d=\"M 0 0 \r\nL -3.5 0 \r\n\" id=\"mfab09327e4\" style=\"stroke:#000000;stroke-width:0.8;\"/>\r\n      </defs>\r\n      <g>\r\n       <use style=\"stroke:#000000;stroke-width:0.8;\" x=\"66.33125\" xlink:href=\"#mfab09327e4\" y=\"215.265493\"/>\r\n      </g>\r\n     </g>\r\n     <g id=\"text_9\">\r\n      <!-- 375000 -->\r\n      <defs>\r\n       <path d=\"M 8.203125 72.90625 \r\nL 55.078125 72.90625 \r\nL 55.078125 68.703125 \r\nL 28.609375 0 \r\nL 18.3125 0 \r\nL 43.21875 64.59375 \r\nL 8.203125 64.59375 \r\nz\r\n\" id=\"DejaVuSans-55\"/>\r\n      </defs>\r\n      <g transform=\"translate(21.15625 219.064712)scale(0.1 -0.1)\">\r\n       <use xlink:href=\"#DejaVuSans-51\"/>\r\n       <use x=\"63.623047\" xlink:href=\"#DejaVuSans-55\"/>\r\n       <use x=\"127.246094\" xlink:href=\"#DejaVuSans-53\"/>\r\n       <use x=\"190.869141\" xlink:href=\"#DejaVuSans-48\"/>\r\n       <use x=\"254.492188\" xlink:href=\"#DejaVuSans-48\"/>\r\n       <use x=\"318.115234\" xlink:href=\"#DejaVuSans-48\"/>\r\n      </g>\r\n     </g>\r\n    </g>\r\n    <g id=\"ytick_2\">\r\n     <g id=\"line2d_9\">\r\n      <g>\r\n       <use style=\"stroke:#000000;stroke-width:0.8;\" x=\"66.33125\" xlink:href=\"#mfab09327e4\" y=\"189.274481\"/>\r\n      </g>\r\n     </g>\r\n     <g id=\"text_10\">\r\n      <!-- 400000 -->\r\n      <defs>\r\n       <path d=\"M 37.796875 64.3125 \r\nL 12.890625 25.390625 \r\nL 37.796875 25.390625 \r\nz\r\nM 35.203125 72.90625 \r\nL 47.609375 72.90625 \r\nL 47.609375 25.390625 \r\nL 58.015625 25.390625 \r\nL 58.015625 17.1875 \r\nL 47.609375 17.1875 \r\nL 47.609375 0 \r\nL 37.796875 0 \r\nL 37.796875 17.1875 \r\nL 4.890625 17.1875 \r\nL 4.890625 26.703125 \r\nz\r\n\" id=\"DejaVuSans-52\"/>\r\n      </defs>\r\n      <g transform=\"translate(21.15625 193.073699)scale(0.1 -0.1)\">\r\n       <use xlink:href=\"#DejaVuSans-52\"/>\r\n       <use x=\"63.623047\" xlink:href=\"#DejaVuSans-48\"/>\r\n       <use x=\"127.246094\" xlink:href=\"#DejaVuSans-48\"/>\r\n       <use x=\"190.869141\" xlink:href=\"#DejaVuSans-48\"/>\r\n       <use x=\"254.492188\" xlink:href=\"#DejaVuSans-48\"/>\r\n       <use x=\"318.115234\" xlink:href=\"#DejaVuSans-48\"/>\r\n      </g>\r\n     </g>\r\n    </g>\r\n    <g id=\"ytick_3\">\r\n     <g id=\"line2d_10\">\r\n      <g>\r\n       <use style=\"stroke:#000000;stroke-width:0.8;\" x=\"66.33125\" xlink:href=\"#mfab09327e4\" y=\"163.283468\"/>\r\n      </g>\r\n     </g>\r\n     <g id=\"text_11\">\r\n      <!-- 425000 -->\r\n      <g transform=\"translate(21.15625 167.082687)scale(0.1 -0.1)\">\r\n       <use xlink:href=\"#DejaVuSans-52\"/>\r\n       <use x=\"63.623047\" xlink:href=\"#DejaVuSans-50\"/>\r\n       <use x=\"127.246094\" xlink:href=\"#DejaVuSans-53\"/>\r\n       <use x=\"190.869141\" xlink:href=\"#DejaVuSans-48\"/>\r\n       <use x=\"254.492188\" xlink:href=\"#DejaVuSans-48\"/>\r\n       <use x=\"318.115234\" xlink:href=\"#DejaVuSans-48\"/>\r\n      </g>\r\n     </g>\r\n    </g>\r\n    <g id=\"ytick_4\">\r\n     <g id=\"line2d_11\">\r\n      <g>\r\n       <use style=\"stroke:#000000;stroke-width:0.8;\" x=\"66.33125\" xlink:href=\"#mfab09327e4\" y=\"137.292456\"/>\r\n      </g>\r\n     </g>\r\n     <g id=\"text_12\">\r\n      <!-- 450000 -->\r\n      <g transform=\"translate(21.15625 141.091675)scale(0.1 -0.1)\">\r\n       <use xlink:href=\"#DejaVuSans-52\"/>\r\n       <use x=\"63.623047\" xlink:href=\"#DejaVuSans-53\"/>\r\n       <use x=\"127.246094\" xlink:href=\"#DejaVuSans-48\"/>\r\n       <use x=\"190.869141\" xlink:href=\"#DejaVuSans-48\"/>\r\n       <use x=\"254.492188\" xlink:href=\"#DejaVuSans-48\"/>\r\n       <use x=\"318.115234\" xlink:href=\"#DejaVuSans-48\"/>\r\n      </g>\r\n     </g>\r\n    </g>\r\n    <g id=\"ytick_5\">\r\n     <g id=\"line2d_12\">\r\n      <g>\r\n       <use style=\"stroke:#000000;stroke-width:0.8;\" x=\"66.33125\" xlink:href=\"#mfab09327e4\" y=\"111.301444\"/>\r\n      </g>\r\n     </g>\r\n     <g id=\"text_13\">\r\n      <!-- 475000 -->\r\n      <g transform=\"translate(21.15625 115.100662)scale(0.1 -0.1)\">\r\n       <use xlink:href=\"#DejaVuSans-52\"/>\r\n       <use x=\"63.623047\" xlink:href=\"#DejaVuSans-55\"/>\r\n       <use x=\"127.246094\" xlink:href=\"#DejaVuSans-53\"/>\r\n       <use x=\"190.869141\" xlink:href=\"#DejaVuSans-48\"/>\r\n       <use x=\"254.492188\" xlink:href=\"#DejaVuSans-48\"/>\r\n       <use x=\"318.115234\" xlink:href=\"#DejaVuSans-48\"/>\r\n      </g>\r\n     </g>\r\n    </g>\r\n    <g id=\"ytick_6\">\r\n     <g id=\"line2d_13\">\r\n      <g>\r\n       <use style=\"stroke:#000000;stroke-width:0.8;\" x=\"66.33125\" xlink:href=\"#mfab09327e4\" y=\"85.310431\"/>\r\n      </g>\r\n     </g>\r\n     <g id=\"text_14\">\r\n      <!-- 500000 -->\r\n      <g transform=\"translate(21.15625 89.10965)scale(0.1 -0.1)\">\r\n       <use xlink:href=\"#DejaVuSans-53\"/>\r\n       <use x=\"63.623047\" xlink:href=\"#DejaVuSans-48\"/>\r\n       <use x=\"127.246094\" xlink:href=\"#DejaVuSans-48\"/>\r\n       <use x=\"190.869141\" xlink:href=\"#DejaVuSans-48\"/>\r\n       <use x=\"254.492188\" xlink:href=\"#DejaVuSans-48\"/>\r\n       <use x=\"318.115234\" xlink:href=\"#DejaVuSans-48\"/>\r\n      </g>\r\n     </g>\r\n    </g>\r\n    <g id=\"ytick_7\">\r\n     <g id=\"line2d_14\">\r\n      <g>\r\n       <use style=\"stroke:#000000;stroke-width:0.8;\" x=\"66.33125\" xlink:href=\"#mfab09327e4\" y=\"59.319419\"/>\r\n      </g>\r\n     </g>\r\n     <g id=\"text_15\">\r\n      <!-- 525000 -->\r\n      <g transform=\"translate(21.15625 63.118638)scale(0.1 -0.1)\">\r\n       <use xlink:href=\"#DejaVuSans-53\"/>\r\n       <use x=\"63.623047\" xlink:href=\"#DejaVuSans-50\"/>\r\n       <use x=\"127.246094\" xlink:href=\"#DejaVuSans-53\"/>\r\n       <use x=\"190.869141\" xlink:href=\"#DejaVuSans-48\"/>\r\n       <use x=\"254.492188\" xlink:href=\"#DejaVuSans-48\"/>\r\n       <use x=\"318.115234\" xlink:href=\"#DejaVuSans-48\"/>\r\n      </g>\r\n     </g>\r\n    </g>\r\n    <g id=\"ytick_8\">\r\n     <g id=\"line2d_15\">\r\n      <g>\r\n       <use style=\"stroke:#000000;stroke-width:0.8;\" x=\"66.33125\" xlink:href=\"#mfab09327e4\" y=\"33.328407\"/>\r\n      </g>\r\n     </g>\r\n     <g id=\"text_16\">\r\n      <!-- 550000 -->\r\n      <g transform=\"translate(21.15625 37.127626)scale(0.1 -0.1)\">\r\n       <use xlink:href=\"#DejaVuSans-53\"/>\r\n       <use x=\"63.623047\" xlink:href=\"#DejaVuSans-53\"/>\r\n       <use x=\"127.246094\" xlink:href=\"#DejaVuSans-48\"/>\r\n       <use x=\"190.869141\" xlink:href=\"#DejaVuSans-48\"/>\r\n       <use x=\"254.492188\" xlink:href=\"#DejaVuSans-48\"/>\r\n       <use x=\"318.115234\" xlink:href=\"#DejaVuSans-48\"/>\r\n      </g>\r\n     </g>\r\n    </g>\r\n    <g id=\"text_17\">\r\n     <!-- sum_of_squared_distances -->\r\n     <defs>\r\n      <path d=\"M 44.28125 53.078125 \r\nL 44.28125 44.578125 \r\nQ 40.484375 46.53125 36.375 47.5 \r\nQ 32.28125 48.484375 27.875 48.484375 \r\nQ 21.1875 48.484375 17.84375 46.4375 \r\nQ 14.5 44.390625 14.5 40.28125 \r\nQ 14.5 37.15625 16.890625 35.375 \r\nQ 19.28125 33.59375 26.515625 31.984375 \r\nL 29.59375 31.296875 \r\nQ 39.15625 29.25 43.1875 25.515625 \r\nQ 47.21875 21.78125 47.21875 15.09375 \r\nQ 47.21875 7.46875 41.1875 3.015625 \r\nQ 35.15625 -1.421875 24.609375 -1.421875 \r\nQ 20.21875 -1.421875 15.453125 -0.5625 \r\nQ 10.6875 0.296875 5.421875 2 \r\nL 5.421875 11.28125 \r\nQ 10.40625 8.6875 15.234375 7.390625 \r\nQ 20.0625 6.109375 24.8125 6.109375 \r\nQ 31.15625 6.109375 34.5625 8.28125 \r\nQ 37.984375 10.453125 37.984375 14.40625 \r\nQ 37.984375 18.0625 35.515625 20.015625 \r\nQ 33.0625 21.96875 24.703125 23.78125 \r\nL 21.578125 24.515625 \r\nQ 13.234375 26.265625 9.515625 29.90625 \r\nQ 5.8125 33.546875 5.8125 39.890625 \r\nQ 5.8125 47.609375 11.28125 51.796875 \r\nQ 16.75 56 26.8125 56 \r\nQ 31.78125 56 36.171875 55.265625 \r\nQ 40.578125 54.546875 44.28125 53.078125 \r\nz\r\n\" id=\"DejaVuSans-115\"/>\r\n      <path d=\"M 8.5 21.578125 \r\nL 8.5 54.6875 \r\nL 17.484375 54.6875 \r\nL 17.484375 21.921875 \r\nQ 17.484375 14.15625 20.5 10.265625 \r\nQ 23.53125 6.390625 29.59375 6.390625 \r\nQ 36.859375 6.390625 41.078125 11.03125 \r\nQ 45.3125 15.671875 45.3125 23.6875 \r\nL 45.3125 54.6875 \r\nL 54.296875 54.6875 \r\nL 54.296875 0 \r\nL 45.3125 0 \r\nL 45.3125 8.40625 \r\nQ 42.046875 3.421875 37.71875 1 \r\nQ 33.40625 -1.421875 27.6875 -1.421875 \r\nQ 18.265625 -1.421875 13.375 4.4375 \r\nQ 8.5 10.296875 8.5 21.578125 \r\nz\r\nM 31.109375 56 \r\nz\r\n\" id=\"DejaVuSans-117\"/>\r\n      <path d=\"M 52 44.1875 \r\nQ 55.375 50.25 60.0625 53.125 \r\nQ 64.75 56 71.09375 56 \r\nQ 79.640625 56 84.28125 50.015625 \r\nQ 88.921875 44.046875 88.921875 33.015625 \r\nL 88.921875 0 \r\nL 79.890625 0 \r\nL 79.890625 32.71875 \r\nQ 79.890625 40.578125 77.09375 44.375 \r\nQ 74.3125 48.1875 68.609375 48.1875 \r\nQ 61.625 48.1875 57.5625 43.546875 \r\nQ 53.515625 38.921875 53.515625 30.90625 \r\nL 53.515625 0 \r\nL 44.484375 0 \r\nL 44.484375 32.71875 \r\nQ 44.484375 40.625 41.703125 44.40625 \r\nQ 38.921875 48.1875 33.109375 48.1875 \r\nQ 26.21875 48.1875 22.15625 43.53125 \r\nQ 18.109375 38.875 18.109375 30.90625 \r\nL 18.109375 0 \r\nL 9.078125 0 \r\nL 9.078125 54.6875 \r\nL 18.109375 54.6875 \r\nL 18.109375 46.1875 \r\nQ 21.1875 51.21875 25.484375 53.609375 \r\nQ 29.78125 56 35.6875 56 \r\nQ 41.65625 56 45.828125 52.96875 \r\nQ 50 49.953125 52 44.1875 \r\nz\r\n\" id=\"DejaVuSans-109\"/>\r\n      <path d=\"M 50.984375 -16.609375 \r\nL 50.984375 -23.578125 \r\nL -0.984375 -23.578125 \r\nL -0.984375 -16.609375 \r\nz\r\n\" id=\"DejaVuSans-95\"/>\r\n      <path d=\"M 30.609375 48.390625 \r\nQ 23.390625 48.390625 19.1875 42.75 \r\nQ 14.984375 37.109375 14.984375 27.296875 \r\nQ 14.984375 17.484375 19.15625 11.84375 \r\nQ 23.34375 6.203125 30.609375 6.203125 \r\nQ 37.796875 6.203125 41.984375 11.859375 \r\nQ 46.1875 17.53125 46.1875 27.296875 \r\nQ 46.1875 37.015625 41.984375 42.703125 \r\nQ 37.796875 48.390625 30.609375 48.390625 \r\nz\r\nM 30.609375 56 \r\nQ 42.328125 56 49.015625 48.375 \r\nQ 55.71875 40.765625 55.71875 27.296875 \r\nQ 55.71875 13.875 49.015625 6.21875 \r\nQ 42.328125 -1.421875 30.609375 -1.421875 \r\nQ 18.84375 -1.421875 12.171875 6.21875 \r\nQ 5.515625 13.875 5.515625 27.296875 \r\nQ 5.515625 40.765625 12.171875 48.375 \r\nQ 18.84375 56 30.609375 56 \r\nz\r\n\" id=\"DejaVuSans-111\"/>\r\n      <path d=\"M 37.109375 75.984375 \r\nL 37.109375 68.5 \r\nL 28.515625 68.5 \r\nQ 23.6875 68.5 21.796875 66.546875 \r\nQ 19.921875 64.59375 19.921875 59.515625 \r\nL 19.921875 54.6875 \r\nL 34.71875 54.6875 \r\nL 34.71875 47.703125 \r\nL 19.921875 47.703125 \r\nL 19.921875 0 \r\nL 10.890625 0 \r\nL 10.890625 47.703125 \r\nL 2.296875 47.703125 \r\nL 2.296875 54.6875 \r\nL 10.890625 54.6875 \r\nL 10.890625 58.5 \r\nQ 10.890625 67.625 15.140625 71.796875 \r\nQ 19.390625 75.984375 28.609375 75.984375 \r\nz\r\n\" id=\"DejaVuSans-102\"/>\r\n      <path d=\"M 14.796875 27.296875 \r\nQ 14.796875 17.390625 18.875 11.75 \r\nQ 22.953125 6.109375 30.078125 6.109375 \r\nQ 37.203125 6.109375 41.296875 11.75 \r\nQ 45.40625 17.390625 45.40625 27.296875 \r\nQ 45.40625 37.203125 41.296875 42.84375 \r\nQ 37.203125 48.484375 30.078125 48.484375 \r\nQ 22.953125 48.484375 18.875 42.84375 \r\nQ 14.796875 37.203125 14.796875 27.296875 \r\nz\r\nM 45.40625 8.203125 \r\nQ 42.578125 3.328125 38.25 0.953125 \r\nQ 33.9375 -1.421875 27.875 -1.421875 \r\nQ 17.96875 -1.421875 11.734375 6.484375 \r\nQ 5.515625 14.40625 5.515625 27.296875 \r\nQ 5.515625 40.1875 11.734375 48.09375 \r\nQ 17.96875 56 27.875 56 \r\nQ 33.9375 56 38.25 53.625 \r\nQ 42.578125 51.265625 45.40625 46.390625 \r\nL 45.40625 54.6875 \r\nL 54.390625 54.6875 \r\nL 54.390625 -20.796875 \r\nL 45.40625 -20.796875 \r\nz\r\n\" id=\"DejaVuSans-113\"/>\r\n      <path d=\"M 34.28125 27.484375 \r\nQ 23.390625 27.484375 19.1875 25 \r\nQ 14.984375 22.515625 14.984375 16.5 \r\nQ 14.984375 11.71875 18.140625 8.90625 \r\nQ 21.296875 6.109375 26.703125 6.109375 \r\nQ 34.1875 6.109375 38.703125 11.40625 \r\nQ 43.21875 16.703125 43.21875 25.484375 \r\nL 43.21875 27.484375 \r\nz\r\nM 52.203125 31.203125 \r\nL 52.203125 0 \r\nL 43.21875 0 \r\nL 43.21875 8.296875 \r\nQ 40.140625 3.328125 35.546875 0.953125 \r\nQ 30.953125 -1.421875 24.3125 -1.421875 \r\nQ 15.921875 -1.421875 10.953125 3.296875 \r\nQ 6 8.015625 6 15.921875 \r\nQ 6 25.140625 12.171875 29.828125 \r\nQ 18.359375 34.515625 30.609375 34.515625 \r\nL 43.21875 34.515625 \r\nL 43.21875 35.40625 \r\nQ 43.21875 41.609375 39.140625 45 \r\nQ 35.0625 48.390625 27.6875 48.390625 \r\nQ 23 48.390625 18.546875 47.265625 \r\nQ 14.109375 46.140625 10.015625 43.890625 \r\nL 10.015625 52.203125 \r\nQ 14.9375 54.109375 19.578125 55.046875 \r\nQ 24.21875 56 28.609375 56 \r\nQ 40.484375 56 46.34375 49.84375 \r\nQ 52.203125 43.703125 52.203125 31.203125 \r\nz\r\n\" id=\"DejaVuSans-97\"/>\r\n      <path d=\"M 41.109375 46.296875 \r\nQ 39.59375 47.171875 37.8125 47.578125 \r\nQ 36.03125 48 33.890625 48 \r\nQ 26.265625 48 22.1875 43.046875 \r\nQ 18.109375 38.09375 18.109375 28.8125 \r\nL 18.109375 0 \r\nL 9.078125 0 \r\nL 9.078125 54.6875 \r\nL 18.109375 54.6875 \r\nL 18.109375 46.1875 \r\nQ 20.953125 51.171875 25.484375 53.578125 \r\nQ 30.03125 56 36.53125 56 \r\nQ 37.453125 56 38.578125 55.875 \r\nQ 39.703125 55.765625 41.0625 55.515625 \r\nz\r\n\" id=\"DejaVuSans-114\"/>\r\n      <path d=\"M 56.203125 29.59375 \r\nL 56.203125 25.203125 \r\nL 14.890625 25.203125 \r\nQ 15.484375 15.921875 20.484375 11.0625 \r\nQ 25.484375 6.203125 34.421875 6.203125 \r\nQ 39.59375 6.203125 44.453125 7.46875 \r\nQ 49.3125 8.734375 54.109375 11.28125 \r\nL 54.109375 2.78125 \r\nQ 49.265625 0.734375 44.1875 -0.34375 \r\nQ 39.109375 -1.421875 33.890625 -1.421875 \r\nQ 20.796875 -1.421875 13.15625 6.1875 \r\nQ 5.515625 13.8125 5.515625 26.8125 \r\nQ 5.515625 40.234375 12.765625 48.109375 \r\nQ 20.015625 56 32.328125 56 \r\nQ 43.359375 56 49.78125 48.890625 \r\nQ 56.203125 41.796875 56.203125 29.59375 \r\nz\r\nM 47.21875 32.234375 \r\nQ 47.125 39.59375 43.09375 43.984375 \r\nQ 39.0625 48.390625 32.421875 48.390625 \r\nQ 24.90625 48.390625 20.390625 44.140625 \r\nQ 15.875 39.890625 15.1875 32.171875 \r\nz\r\n\" id=\"DejaVuSans-101\"/>\r\n      <path d=\"M 45.40625 46.390625 \r\nL 45.40625 75.984375 \r\nL 54.390625 75.984375 \r\nL 54.390625 0 \r\nL 45.40625 0 \r\nL 45.40625 8.203125 \r\nQ 42.578125 3.328125 38.25 0.953125 \r\nQ 33.9375 -1.421875 27.875 -1.421875 \r\nQ 17.96875 -1.421875 11.734375 6.484375 \r\nQ 5.515625 14.40625 5.515625 27.296875 \r\nQ 5.515625 40.1875 11.734375 48.09375 \r\nQ 17.96875 56 27.875 56 \r\nQ 33.9375 56 38.25 53.625 \r\nQ 42.578125 51.265625 45.40625 46.390625 \r\nz\r\nM 14.796875 27.296875 \r\nQ 14.796875 17.390625 18.875 11.75 \r\nQ 22.953125 6.109375 30.078125 6.109375 \r\nQ 37.203125 6.109375 41.296875 11.75 \r\nQ 45.40625 17.390625 45.40625 27.296875 \r\nQ 45.40625 37.203125 41.296875 42.84375 \r\nQ 37.203125 48.484375 30.078125 48.484375 \r\nQ 22.953125 48.484375 18.875 42.84375 \r\nQ 14.796875 37.203125 14.796875 27.296875 \r\nz\r\n\" id=\"DejaVuSans-100\"/>\r\n      <path d=\"M 9.421875 54.6875 \r\nL 18.40625 54.6875 \r\nL 18.40625 0 \r\nL 9.421875 0 \r\nz\r\nM 9.421875 75.984375 \r\nL 18.40625 75.984375 \r\nL 18.40625 64.59375 \r\nL 9.421875 64.59375 \r\nz\r\n\" id=\"DejaVuSans-105\"/>\r\n      <path d=\"M 18.3125 70.21875 \r\nL 18.3125 54.6875 \r\nL 36.8125 54.6875 \r\nL 36.8125 47.703125 \r\nL 18.3125 47.703125 \r\nL 18.3125 18.015625 \r\nQ 18.3125 11.328125 20.140625 9.421875 \r\nQ 21.96875 7.515625 27.59375 7.515625 \r\nL 36.8125 7.515625 \r\nL 36.8125 0 \r\nL 27.59375 0 \r\nQ 17.1875 0 13.234375 3.875 \r\nQ 9.28125 7.765625 9.28125 18.015625 \r\nL 9.28125 47.703125 \r\nL 2.6875 47.703125 \r\nL 2.6875 54.6875 \r\nL 9.28125 54.6875 \r\nL 9.28125 70.21875 \r\nz\r\n\" id=\"DejaVuSans-116\"/>\r\n      <path d=\"M 54.890625 33.015625 \r\nL 54.890625 0 \r\nL 45.90625 0 \r\nL 45.90625 32.71875 \r\nQ 45.90625 40.484375 42.875 44.328125 \r\nQ 39.84375 48.1875 33.796875 48.1875 \r\nQ 26.515625 48.1875 22.3125 43.546875 \r\nQ 18.109375 38.921875 18.109375 30.90625 \r\nL 18.109375 0 \r\nL 9.078125 0 \r\nL 9.078125 54.6875 \r\nL 18.109375 54.6875 \r\nL 18.109375 46.1875 \r\nQ 21.34375 51.125 25.703125 53.5625 \r\nQ 30.078125 56 35.796875 56 \r\nQ 45.21875 56 50.046875 50.171875 \r\nQ 54.890625 44.34375 54.890625 33.015625 \r\nz\r\n\" id=\"DejaVuSans-110\"/>\r\n      <path d=\"M 48.78125 52.59375 \r\nL 48.78125 44.1875 \r\nQ 44.96875 46.296875 41.140625 47.34375 \r\nQ 37.3125 48.390625 33.40625 48.390625 \r\nQ 24.65625 48.390625 19.8125 42.84375 \r\nQ 14.984375 37.3125 14.984375 27.296875 \r\nQ 14.984375 17.28125 19.8125 11.734375 \r\nQ 24.65625 6.203125 33.40625 6.203125 \r\nQ 37.3125 6.203125 41.140625 7.25 \r\nQ 44.96875 8.296875 48.78125 10.40625 \r\nL 48.78125 2.09375 \r\nQ 45.015625 0.34375 40.984375 -0.53125 \r\nQ 36.96875 -1.421875 32.421875 -1.421875 \r\nQ 20.0625 -1.421875 12.78125 6.34375 \r\nQ 5.515625 14.109375 5.515625 27.296875 \r\nQ 5.515625 40.671875 12.859375 48.328125 \r\nQ 20.21875 56 33.015625 56 \r\nQ 37.15625 56 41.109375 55.140625 \r\nQ 45.0625 54.296875 48.78125 52.59375 \r\nz\r\n\" id=\"DejaVuSans-99\"/>\r\n     </defs>\r\n     <g transform=\"translate(14.798438 197.998281)rotate(-90)scale(0.1 -0.1)\">\r\n      <use xlink:href=\"#DejaVuSans-115\"/>\r\n      <use x=\"52.099609\" xlink:href=\"#DejaVuSans-117\"/>\r\n      <use x=\"115.478516\" xlink:href=\"#DejaVuSans-109\"/>\r\n      <use x=\"212.890625\" xlink:href=\"#DejaVuSans-95\"/>\r\n      <use x=\"262.890625\" xlink:href=\"#DejaVuSans-111\"/>\r\n      <use x=\"324.072266\" xlink:href=\"#DejaVuSans-102\"/>\r\n      <use x=\"359.277344\" xlink:href=\"#DejaVuSans-95\"/>\r\n      <use x=\"409.277344\" xlink:href=\"#DejaVuSans-115\"/>\r\n      <use x=\"461.376953\" xlink:href=\"#DejaVuSans-113\"/>\r\n      <use x=\"524.853516\" xlink:href=\"#DejaVuSans-117\"/>\r\n      <use x=\"588.232422\" xlink:href=\"#DejaVuSans-97\"/>\r\n      <use x=\"649.511719\" xlink:href=\"#DejaVuSans-114\"/>\r\n      <use x=\"688.375\" xlink:href=\"#DejaVuSans-101\"/>\r\n      <use x=\"749.898438\" xlink:href=\"#DejaVuSans-100\"/>\r\n      <use x=\"813.375\" xlink:href=\"#DejaVuSans-95\"/>\r\n      <use x=\"863.375\" xlink:href=\"#DejaVuSans-100\"/>\r\n      <use x=\"926.851562\" xlink:href=\"#DejaVuSans-105\"/>\r\n      <use x=\"954.634766\" xlink:href=\"#DejaVuSans-115\"/>\r\n      <use x=\"1006.734375\" xlink:href=\"#DejaVuSans-116\"/>\r\n      <use x=\"1045.943359\" xlink:href=\"#DejaVuSans-97\"/>\r\n      <use x=\"1107.222656\" xlink:href=\"#DejaVuSans-110\"/>\r\n      <use x=\"1170.601562\" xlink:href=\"#DejaVuSans-99\"/>\r\n      <use x=\"1225.582031\" xlink:href=\"#DejaVuSans-101\"/>\r\n      <use x=\"1287.105469\" xlink:href=\"#DejaVuSans-115\"/>\r\n     </g>\r\n    </g>\r\n   </g>\r\n   <g id=\"line2d_16\">\r\n    <path clip-path=\"url(#pf813bff204)\" d=\"M 81.549432 32.201761 \r\nL 92.419562 86.323821 \r\nL 103.289692 112.908241 \r\nL 114.159821 129.881704 \r\nL 125.029951 142.650536 \r\nL 135.900081 152.962892 \r\nL 146.770211 160.371305 \r\nL 157.640341 167.634949 \r\nL 168.510471 174.312007 \r\nL 179.380601 178.527587 \r\nL 190.250731 183.897428 \r\nL 201.12086 188.126328 \r\nL 211.99099 193.273588 \r\nL 222.86112 196.091858 \r\nL 233.73125 200.522676 \r\nL 244.60138 203.290946 \r\nL 255.47151 205.842159 \r\nL 266.34164 208.83967 \r\nL 277.211769 211.551995 \r\nL 288.081899 213.680691 \r\nL 298.952029 216.110396 \r\nL 309.822159 217.361213 \r\nL 320.692289 219.905019 \r\nL 331.562419 221.037967 \r\nL 342.432549 223.567575 \r\nL 353.302679 225.2656 \r\nL 364.172808 226.806412 \r\nL 375.042938 228.441539 \r\nL 385.913068 229.874489 \r\n\" style=\"fill:none;stroke:#0000ff;stroke-linecap:square;stroke-width:1.5;\"/>\r\n    <defs>\r\n     <path d=\"M -3 3 \r\nL 3 -3 \r\nM -3 -3 \r\nL 3 3 \r\n\" id=\"m0eafd23d1d\" style=\"stroke:#0000ff;\"/>\r\n    </defs>\r\n    <g clip-path=\"url(#pf813bff204)\">\r\n     <use style=\"fill:#0000ff;stroke:#0000ff;\" x=\"81.549432\" xlink:href=\"#m0eafd23d1d\" y=\"32.201761\"/>\r\n     <use style=\"fill:#0000ff;stroke:#0000ff;\" x=\"92.419562\" xlink:href=\"#m0eafd23d1d\" y=\"86.323821\"/>\r\n     <use style=\"fill:#0000ff;stroke:#0000ff;\" x=\"103.289692\" xlink:href=\"#m0eafd23d1d\" y=\"112.908241\"/>\r\n     <use style=\"fill:#0000ff;stroke:#0000ff;\" x=\"114.159821\" xlink:href=\"#m0eafd23d1d\" y=\"129.881704\"/>\r\n     <use style=\"fill:#0000ff;stroke:#0000ff;\" x=\"125.029951\" xlink:href=\"#m0eafd23d1d\" y=\"142.650536\"/>\r\n     <use style=\"fill:#0000ff;stroke:#0000ff;\" x=\"135.900081\" xlink:href=\"#m0eafd23d1d\" y=\"152.962892\"/>\r\n     <use style=\"fill:#0000ff;stroke:#0000ff;\" x=\"146.770211\" xlink:href=\"#m0eafd23d1d\" y=\"160.371305\"/>\r\n     <use style=\"fill:#0000ff;stroke:#0000ff;\" x=\"157.640341\" xlink:href=\"#m0eafd23d1d\" y=\"167.634949\"/>\r\n     <use style=\"fill:#0000ff;stroke:#0000ff;\" x=\"168.510471\" xlink:href=\"#m0eafd23d1d\" y=\"174.312007\"/>\r\n     <use style=\"fill:#0000ff;stroke:#0000ff;\" x=\"179.380601\" xlink:href=\"#m0eafd23d1d\" y=\"178.527587\"/>\r\n     <use style=\"fill:#0000ff;stroke:#0000ff;\" x=\"190.250731\" xlink:href=\"#m0eafd23d1d\" y=\"183.897428\"/>\r\n     <use style=\"fill:#0000ff;stroke:#0000ff;\" x=\"201.12086\" xlink:href=\"#m0eafd23d1d\" y=\"188.126328\"/>\r\n     <use style=\"fill:#0000ff;stroke:#0000ff;\" x=\"211.99099\" xlink:href=\"#m0eafd23d1d\" y=\"193.273588\"/>\r\n     <use style=\"fill:#0000ff;stroke:#0000ff;\" x=\"222.86112\" xlink:href=\"#m0eafd23d1d\" y=\"196.091858\"/>\r\n     <use style=\"fill:#0000ff;stroke:#0000ff;\" x=\"233.73125\" xlink:href=\"#m0eafd23d1d\" y=\"200.522676\"/>\r\n     <use style=\"fill:#0000ff;stroke:#0000ff;\" x=\"244.60138\" xlink:href=\"#m0eafd23d1d\" y=\"203.290946\"/>\r\n     <use style=\"fill:#0000ff;stroke:#0000ff;\" x=\"255.47151\" xlink:href=\"#m0eafd23d1d\" y=\"205.842159\"/>\r\n     <use style=\"fill:#0000ff;stroke:#0000ff;\" x=\"266.34164\" xlink:href=\"#m0eafd23d1d\" y=\"208.83967\"/>\r\n     <use style=\"fill:#0000ff;stroke:#0000ff;\" x=\"277.211769\" xlink:href=\"#m0eafd23d1d\" y=\"211.551995\"/>\r\n     <use style=\"fill:#0000ff;stroke:#0000ff;\" x=\"288.081899\" xlink:href=\"#m0eafd23d1d\" y=\"213.680691\"/>\r\n     <use style=\"fill:#0000ff;stroke:#0000ff;\" x=\"298.952029\" xlink:href=\"#m0eafd23d1d\" y=\"216.110396\"/>\r\n     <use style=\"fill:#0000ff;stroke:#0000ff;\" x=\"309.822159\" xlink:href=\"#m0eafd23d1d\" y=\"217.361213\"/>\r\n     <use style=\"fill:#0000ff;stroke:#0000ff;\" x=\"320.692289\" xlink:href=\"#m0eafd23d1d\" y=\"219.905019\"/>\r\n     <use style=\"fill:#0000ff;stroke:#0000ff;\" x=\"331.562419\" xlink:href=\"#m0eafd23d1d\" y=\"221.037967\"/>\r\n     <use style=\"fill:#0000ff;stroke:#0000ff;\" x=\"342.432549\" xlink:href=\"#m0eafd23d1d\" y=\"223.567575\"/>\r\n     <use style=\"fill:#0000ff;stroke:#0000ff;\" x=\"353.302679\" xlink:href=\"#m0eafd23d1d\" y=\"225.2656\"/>\r\n     <use style=\"fill:#0000ff;stroke:#0000ff;\" x=\"364.172808\" xlink:href=\"#m0eafd23d1d\" y=\"226.806412\"/>\r\n     <use style=\"fill:#0000ff;stroke:#0000ff;\" x=\"375.042938\" xlink:href=\"#m0eafd23d1d\" y=\"228.441539\"/>\r\n     <use style=\"fill:#0000ff;stroke:#0000ff;\" x=\"385.913068\" xlink:href=\"#m0eafd23d1d\" y=\"229.874489\"/>\r\n    </g>\r\n   </g>\r\n   <g id=\"patch_3\">\r\n    <path d=\"M 66.33125 239.758125 \r\nL 66.33125 22.318125 \r\n\" style=\"fill:none;stroke:#000000;stroke-linecap:square;stroke-linejoin:miter;stroke-width:0.8;\"/>\r\n   </g>\r\n   <g id=\"patch_4\">\r\n    <path d=\"M 401.13125 239.758125 \r\nL 401.13125 22.318125 \r\n\" style=\"fill:none;stroke:#000000;stroke-linecap:square;stroke-linejoin:miter;stroke-width:0.8;\"/>\r\n   </g>\r\n   <g id=\"patch_5\">\r\n    <path d=\"M 66.33125 239.758125 \r\nL 401.13125 239.758125 \r\n\" style=\"fill:none;stroke:#000000;stroke-linecap:square;stroke-linejoin:miter;stroke-width:0.8;\"/>\r\n   </g>\r\n   <g id=\"patch_6\">\r\n    <path d=\"M 66.33125 22.318125 \r\nL 401.13125 22.318125 \r\n\" style=\"fill:none;stroke:#000000;stroke-linecap:square;stroke-linejoin:miter;stroke-width:0.8;\"/>\r\n   </g>\r\n   <g id=\"text_18\">\r\n    <!-- elbow method for optimal k -->\r\n    <defs>\r\n     <path d=\"M 9.421875 75.984375 \r\nL 18.40625 75.984375 \r\nL 18.40625 0 \r\nL 9.421875 0 \r\nz\r\n\" id=\"DejaVuSans-108\"/>\r\n     <path d=\"M 48.6875 27.296875 \r\nQ 48.6875 37.203125 44.609375 42.84375 \r\nQ 40.53125 48.484375 33.40625 48.484375 \r\nQ 26.265625 48.484375 22.1875 42.84375 \r\nQ 18.109375 37.203125 18.109375 27.296875 \r\nQ 18.109375 17.390625 22.1875 11.75 \r\nQ 26.265625 6.109375 33.40625 6.109375 \r\nQ 40.53125 6.109375 44.609375 11.75 \r\nQ 48.6875 17.390625 48.6875 27.296875 \r\nz\r\nM 18.109375 46.390625 \r\nQ 20.953125 51.265625 25.265625 53.625 \r\nQ 29.59375 56 35.59375 56 \r\nQ 45.5625 56 51.78125 48.09375 \r\nQ 58.015625 40.1875 58.015625 27.296875 \r\nQ 58.015625 14.40625 51.78125 6.484375 \r\nQ 45.5625 -1.421875 35.59375 -1.421875 \r\nQ 29.59375 -1.421875 25.265625 0.953125 \r\nQ 20.953125 3.328125 18.109375 8.203125 \r\nL 18.109375 0 \r\nL 9.078125 0 \r\nL 9.078125 75.984375 \r\nL 18.109375 75.984375 \r\nz\r\n\" id=\"DejaVuSans-98\"/>\r\n     <path d=\"M 4.203125 54.6875 \r\nL 13.1875 54.6875 \r\nL 24.421875 12.015625 \r\nL 35.59375 54.6875 \r\nL 46.1875 54.6875 \r\nL 57.421875 12.015625 \r\nL 68.609375 54.6875 \r\nL 77.59375 54.6875 \r\nL 63.28125 0 \r\nL 52.6875 0 \r\nL 40.921875 44.828125 \r\nL 29.109375 0 \r\nL 18.5 0 \r\nz\r\n\" id=\"DejaVuSans-119\"/>\r\n     <path id=\"DejaVuSans-32\"/>\r\n     <path d=\"M 54.890625 33.015625 \r\nL 54.890625 0 \r\nL 45.90625 0 \r\nL 45.90625 32.71875 \r\nQ 45.90625 40.484375 42.875 44.328125 \r\nQ 39.84375 48.1875 33.796875 48.1875 \r\nQ 26.515625 48.1875 22.3125 43.546875 \r\nQ 18.109375 38.921875 18.109375 30.90625 \r\nL 18.109375 0 \r\nL 9.078125 0 \r\nL 9.078125 75.984375 \r\nL 18.109375 75.984375 \r\nL 18.109375 46.1875 \r\nQ 21.34375 51.125 25.703125 53.5625 \r\nQ 30.078125 56 35.796875 56 \r\nQ 45.21875 56 50.046875 50.171875 \r\nQ 54.890625 44.34375 54.890625 33.015625 \r\nz\r\n\" id=\"DejaVuSans-104\"/>\r\n     <path d=\"M 18.109375 8.203125 \r\nL 18.109375 -20.796875 \r\nL 9.078125 -20.796875 \r\nL 9.078125 54.6875 \r\nL 18.109375 54.6875 \r\nL 18.109375 46.390625 \r\nQ 20.953125 51.265625 25.265625 53.625 \r\nQ 29.59375 56 35.59375 56 \r\nQ 45.5625 56 51.78125 48.09375 \r\nQ 58.015625 40.1875 58.015625 27.296875 \r\nQ 58.015625 14.40625 51.78125 6.484375 \r\nQ 45.5625 -1.421875 35.59375 -1.421875 \r\nQ 29.59375 -1.421875 25.265625 0.953125 \r\nQ 20.953125 3.328125 18.109375 8.203125 \r\nz\r\nM 48.6875 27.296875 \r\nQ 48.6875 37.203125 44.609375 42.84375 \r\nQ 40.53125 48.484375 33.40625 48.484375 \r\nQ 26.265625 48.484375 22.1875 42.84375 \r\nQ 18.109375 37.203125 18.109375 27.296875 \r\nQ 18.109375 17.390625 22.1875 11.75 \r\nQ 26.265625 6.109375 33.40625 6.109375 \r\nQ 40.53125 6.109375 44.609375 11.75 \r\nQ 48.6875 17.390625 48.6875 27.296875 \r\nz\r\n\" id=\"DejaVuSans-112\"/>\r\n    </defs>\r\n    <g transform=\"translate(150.774688 16.318125)scale(0.12 -0.12)\">\r\n     <use xlink:href=\"#DejaVuSans-101\"/>\r\n     <use x=\"61.523438\" xlink:href=\"#DejaVuSans-108\"/>\r\n     <use x=\"89.306641\" xlink:href=\"#DejaVuSans-98\"/>\r\n     <use x=\"152.783203\" xlink:href=\"#DejaVuSans-111\"/>\r\n     <use x=\"213.964844\" xlink:href=\"#DejaVuSans-119\"/>\r\n     <use x=\"295.751953\" xlink:href=\"#DejaVuSans-32\"/>\r\n     <use x=\"327.539062\" xlink:href=\"#DejaVuSans-109\"/>\r\n     <use x=\"424.951172\" xlink:href=\"#DejaVuSans-101\"/>\r\n     <use x=\"486.474609\" xlink:href=\"#DejaVuSans-116\"/>\r\n     <use x=\"525.683594\" xlink:href=\"#DejaVuSans-104\"/>\r\n     <use x=\"589.0625\" xlink:href=\"#DejaVuSans-111\"/>\r\n     <use x=\"650.244141\" xlink:href=\"#DejaVuSans-100\"/>\r\n     <use x=\"713.720703\" xlink:href=\"#DejaVuSans-32\"/>\r\n     <use x=\"745.507812\" xlink:href=\"#DejaVuSans-102\"/>\r\n     <use x=\"780.712891\" xlink:href=\"#DejaVuSans-111\"/>\r\n     <use x=\"841.894531\" xlink:href=\"#DejaVuSans-114\"/>\r\n     <use x=\"883.007812\" xlink:href=\"#DejaVuSans-32\"/>\r\n     <use x=\"914.794922\" xlink:href=\"#DejaVuSans-111\"/>\r\n     <use x=\"975.976562\" xlink:href=\"#DejaVuSans-112\"/>\r\n     <use x=\"1039.453125\" xlink:href=\"#DejaVuSans-116\"/>\r\n     <use x=\"1078.662109\" xlink:href=\"#DejaVuSans-105\"/>\r\n     <use x=\"1106.445312\" xlink:href=\"#DejaVuSans-109\"/>\r\n     <use x=\"1203.857422\" xlink:href=\"#DejaVuSans-97\"/>\r\n     <use x=\"1265.136719\" xlink:href=\"#DejaVuSans-108\"/>\r\n     <use x=\"1292.919922\" xlink:href=\"#DejaVuSans-32\"/>\r\n     <use x=\"1324.707031\" xlink:href=\"#DejaVuSans-107\"/>\r\n    </g>\r\n   </g>\r\n  </g>\r\n </g>\r\n <defs>\r\n  <clipPath id=\"pf813bff204\">\r\n   <rect height=\"217.44\" width=\"334.8\" x=\"66.33125\" y=\"22.318125\"/>\r\n  </clipPath>\r\n </defs>\r\n</svg>\r\n",
      "image/png": "[encoded data removed]"
     },
     "metadata": {
      "needs_background": "light"
     }
    }
   ],
   "source": [
    "plt.plot(K, sum_of_squared_distances, 'bx-')\n",
    "plt.xlabel('k')\n",
    "plt.ylabel('sum_of_squared_distances')\n",
    "plt.title('elbow method for optimal k')\n",
    "plt.show()"
   ]
  },
  {
   "source": [
    "9 appears to be the optimal k value \n",
    "(in truth, k mens clustering on raw embeddings will not produce data is sufficiently divisible, this will be replaced by aspect based clustering)"
   ],
   "cell_type": "markdown",
   "metadata": {}
  },
  {
   "cell_type": "code",
   "execution_count": 87,
   "metadata": {},
   "outputs": [],
   "source": [
    "N=9\n",
    "k_means = KMeans(n_clusters=N)\n",
    "cluster_model = k_means.fit(sentence_embeddings)\n",
    "clusters = k_means.predict(sentence_embeddings)\n",
    "labels = k_means.labels_"
   ]
  },
  {
   "cell_type": "code",
   "execution_count": 72,
   "metadata": {},
   "outputs": [
    {
     "output_type": "execute_result",
     "data": {
      "text/plain": [
       "0.062424347"
      ]
     },
     "metadata": {},
     "execution_count": 72
    }
   ],
   "source": [
    "metrics.silhouette_score(sentence_embeddings, labels, metric = 'euclidean')"
   ]
  },
  {
   "cell_type": "code",
   "execution_count": 73,
   "metadata": {},
   "outputs": [
    {
     "output_type": "execute_result",
     "data": {
      "text/plain": [
       "140.0590041500181"
      ]
     },
     "metadata": {},
     "execution_count": 73
    }
   ],
   "source": [
    "metrics.calinski_harabasz_score(sentence_embeddings, labels)"
   ]
  },
  {
   "cell_type": "code",
   "execution_count": 74,
   "metadata": {},
   "outputs": [
    {
     "output_type": "execute_result",
     "data": {
      "text/plain": [
       "array([[-0.51436734, -0.1701127 ,  0.44110763, ..., -0.30240938,\n",
       "         0.08810309, -0.479613  ],\n",
       "       [-0.54308903, -0.89280456,  0.8588432 , ..., -0.14319208,\n",
       "         0.15059066, -0.43422884],\n",
       "       [-0.6844016 , -0.45973253,  0.7535728 , ..., -0.14860462,\n",
       "        -0.06818486, -0.31142607],\n",
       "       ...,\n",
       "       [-0.5591063 , -0.28548104,  0.6254571 , ..., -0.2090591 ,\n",
       "        -0.06662368, -0.3591279 ],\n",
       "       [-0.7874719 , -0.34452575,  0.5993515 , ..., -0.30438524,\n",
       "         0.1811681 , -0.36463147],\n",
       "       [-0.79967   , -0.41392705,  0.66368216, ..., -0.20022777,\n",
       "        -0.00537953, -0.32597417]], dtype=float32)"
      ]
     },
     "metadata": {},
     "execution_count": 74
    }
   ],
   "source": [
    "k_means.cluster_centers_"
   ]
  },
  {
   "cell_type": "code",
   "execution_count": 143,
   "metadata": {},
   "outputs": [
    {
     "output_type": "execute_result",
     "data": {
      "text/plain": [
       "array([2, 1, 2, ..., 3, 2, 3])"
      ]
     },
     "metadata": {},
     "execution_count": 143
    }
   ],
   "source": [
    "clusters"
   ]
  },
  {
   "cell_type": "code",
   "execution_count": 89,
   "metadata": {},
   "outputs": [],
   "source": [
    "cluster_df=pd.DataFrame(sentence_embeddings)\n"
   ]
  },
  {
   "cell_type": "code",
   "execution_count": 92,
   "metadata": {},
   "outputs": [],
   "source": [
    "cluster_df['cluster']=clusters"
   ]
  },
  {
   "cell_type": "code",
   "execution_count": 145,
   "metadata": {},
   "outputs": [
    {
     "output_type": "execute_result",
     "data": {
      "text/plain": [
       "          0         1         2         3         4         5         6  \\\n",
       "0 -0.956042  0.012320  0.931890 -1.373932 -0.148879 -0.819539  0.658350   \n",
       "1 -1.409708 -0.107163  0.571454 -0.293092 -0.220212 -1.066455  1.310054   \n",
       "2 -0.296880  0.278087  1.183347 -0.658100  0.008596 -0.214842  0.993760   \n",
       "3 -1.108715 -0.034434  1.100504 -0.256313 -0.439453 -0.455878  0.473183   \n",
       "4 -0.930788 -0.508998  1.388012 -0.820338 -0.196601 -0.792933  1.197120   \n",
       "\n",
       "          7         8         9   ...          759       760       761  \\\n",
       "0 -0.085680  1.556409 -1.131261   ...    -0.088120 -0.384676  0.652285   \n",
       "1 -0.273459  0.673982 -0.857066   ...     0.079770  0.879043  0.514043   \n",
       "2 -0.072168  1.115532 -1.249842   ...     0.136363 -0.276342  1.092410   \n",
       "3 -0.410095  0.929165 -1.089171   ...     0.589177  0.195223  0.253920   \n",
       "4 -0.547936  0.429919 -0.562648   ...     0.481826  0.378141  1.135984   \n",
       "\n",
       "        762       763       764       765       766       767  cluster  \n",
       "0 -0.464787  0.330640 -0.152571 -0.335081  0.221827  0.163513        2  \n",
       "1 -0.118699 -0.020508  0.443668 -0.678284  0.682703 -0.064685        1  \n",
       "2 -0.525981  0.215958 -0.055326 -0.480167  0.408411 -0.621882        2  \n",
       "3 -0.759189  0.733035  0.270951 -0.509543  0.503534 -0.472921        2  \n",
       "4  0.670425 -0.120453 -0.386618 -0.389926  0.528415 -0.635000        8  \n",
       "\n",
       "[5 rows x 769 columns]"
      ],
      "text/html": "<div>\n<style scoped>\n    .dataframe tbody tr th:only-of-type {\n        vertical-align: middle;\n    }\n\n    .dataframe tbody tr th {\n        vertical-align: top;\n    }\n\n    .dataframe thead th {\n        text-align: right;\n    }\n</style>\n<table border=\"1\" class=\"dataframe\">\n  <thead>\n    <tr style=\"text-align: right;\">\n      <th></th>\n      <th>0</th>\n      <th>1</th>\n      <th>2</th>\n      <th>3</th>\n      <th>4</th>\n      <th>5</th>\n      <th>6</th>\n      <th>7</th>\n      <th>8</th>\n      <th>9</th>\n      <th>...</th>\n      <th>759</th>\n      <th>760</th>\n      <th>761</th>\n      <th>762</th>\n      <th>763</th>\n      <th>764</th>\n      <th>765</th>\n      <th>766</th>\n      <th>767</th>\n      <th>cluster</th>\n    </tr>\n  </thead>\n  <tbody>\n    <tr>\n      <th>0</th>\n      <td>-0.956042</td>\n      <td>0.012320</td>\n      <td>0.931890</td>\n      <td>-1.373932</td>\n      <td>-0.148879</td>\n      <td>-0.819539</td>\n      <td>0.658350</td>\n      <td>-0.085680</td>\n      <td>1.556409</td>\n      <td>-1.131261</td>\n      <td>...</td>\n      <td>-0.088120</td>\n      <td>-0.384676</td>\n      <td>0.652285</td>\n      <td>-0.464787</td>\n      <td>0.330640</td>\n      <td>-0.152571</td>\n      <td>-0.335081</td>\n      <td>0.221827</td>\n      <td>0.163513</td>\n      <td>2</td>\n    </tr>\n    <tr>\n      <th>1</th>\n      <td>-1.409708</td>\n      <td>-0.107163</td>\n      <td>0.571454</td>\n      <td>-0.293092</td>\n      <td>-0.220212</td>\n      <td>-1.066455</td>\n      <td>1.310054</td>\n      <td>-0.273459</td>\n      <td>0.673982</td>\n      <td>-0.857066</td>\n      <td>...</td>\n      <td>0.079770</td>\n      <td>0.879043</td>\n      <td>0.514043</td>\n      <td>-0.118699</td>\n      <td>-0.020508</td>\n      <td>0.443668</td>\n      <td>-0.678284</td>\n      <td>0.682703</td>\n      <td>-0.064685</td>\n      <td>1</td>\n    </tr>\n    <tr>\n      <th>2</th>\n      <td>-0.296880</td>\n      <td>0.278087</td>\n      <td>1.183347</td>\n      <td>-0.658100</td>\n      <td>0.008596</td>\n      <td>-0.214842</td>\n      <td>0.993760</td>\n      <td>-0.072168</td>\n      <td>1.115532</td>\n      <td>-1.249842</td>\n      <td>...</td>\n      <td>0.136363</td>\n      <td>-0.276342</td>\n      <td>1.092410</td>\n      <td>-0.525981</td>\n      <td>0.215958</td>\n      <td>-0.055326</td>\n      <td>-0.480167</td>\n      <td>0.408411</td>\n      <td>-0.621882</td>\n      <td>2</td>\n    </tr>\n    <tr>\n      <th>3</th>\n      <td>-1.108715</td>\n      <td>-0.034434</td>\n      <td>1.100504</td>\n      <td>-0.256313</td>\n      <td>-0.439453</td>\n      <td>-0.455878</td>\n      <td>0.473183</td>\n      <td>-0.410095</td>\n      <td>0.929165</td>\n      <td>-1.089171</td>\n      <td>...</td>\n      <td>0.589177</td>\n      <td>0.195223</td>\n      <td>0.253920</td>\n      <td>-0.759189</td>\n      <td>0.733035</td>\n      <td>0.270951</td>\n      <td>-0.509543</td>\n      <td>0.503534</td>\n      <td>-0.472921</td>\n      <td>2</td>\n    </tr>\n    <tr>\n      <th>4</th>\n      <td>-0.930788</td>\n      <td>-0.508998</td>\n      <td>1.388012</td>\n      <td>-0.820338</td>\n      <td>-0.196601</td>\n      <td>-0.792933</td>\n      <td>1.197120</td>\n      <td>-0.547936</td>\n      <td>0.429919</td>\n      <td>-0.562648</td>\n      <td>...</td>\n      <td>0.481826</td>\n      <td>0.378141</td>\n      <td>1.135984</td>\n      <td>0.670425</td>\n      <td>-0.120453</td>\n      <td>-0.386618</td>\n      <td>-0.389926</td>\n      <td>0.528415</td>\n      <td>-0.635000</td>\n      <td>8</td>\n    </tr>\n  </tbody>\n</table>\n<p>5 rows × 769 columns</p>\n</div>"
     },
     "metadata": {},
     "execution_count": 145
    }
   ],
   "source": [
    "cluster_df.head()"
   ]
  },
  {
   "cell_type": "code",
   "execution_count": 122,
   "metadata": {},
   "outputs": [],
   "source": [
    "cluster_centroids=cluster_df.groupby('cluster').mean().values"
   ]
  },
  {
   "cell_type": "code",
   "execution_count": 123,
   "metadata": {},
   "outputs": [],
   "source": [
    "by_cluster=cluster_df.groupby('cluster')"
   ]
  },
  {
   "cell_type": "code",
   "execution_count": 155,
   "metadata": {
    "tags": []
   },
   "outputs": [],
   "source": [
    "salient_embeddings=[]\n",
    "salient_sentences=[]\n",
    "for i in range(N):\n",
    "    cluster_vectors=by_cluster.get_group(i).drop('cluster', 1).values\n",
    "    cluster_ids=by_cluster.get_group(i).index\n",
    "    similarities=cosine_similarity(cluster_vectors, [cluster_centroids[i]]) \n",
    "    salient_embeddings.append(cluster_vectors[np.argmax(similarities)])\n",
    "    salient_sentences.append(corp_sent[cluster_ids[np.argmax(similarities)]])"
   ]
  },
  {
   "cell_type": "code",
   "execution_count": 156,
   "metadata": {},
   "outputs": [
    {
     "output_type": "execute_result",
     "data": {
      "text/plain": [
       "['However,\\nwhen the only visual image sequences are given, the feature\\nvectors are not so clearly separated that the repeated recall-\\ning in multimodal autoencoder would not improve.',\n",
       " 'Our model consists of encoder and\\ndecoder LSTMs and multimodal autoencoder.',\n",
       " \"4 Discussion\\n\\nHere we have introduced spline transformations, a module for neural\\nnetworks, and demonstrated that it is an effective way to model relative\\n\\n...ACTCTCACTGTGACCTTCTCTTTCCCAGCAT...AG...AGNucleotide compositionNucleotide compositionDistance to 5' exonDistance to 3' exonDistance to PPTPPT lengthDistances to AG dinucleotides*a0.900.920.94Area under ROC curve0.500.550.600.65Area under Precision−Recall curveowcbed  Model PWM (Inferred)Branchpoint−centered PWM (Data)123456789101112345678910110.00.40.81.2Bits3' exon distanceModel version:   deep   shallowBinary softmax lossSpline transformation.. 0 0 0 0 0 0 0 0 1 0 0 0 1 NA 0 .. DropoutConcatenateConv1DConv1DDropoutx#hidden: 2, 0RNA sequenceConv1DACGT#(cid:1)lters: 128, 1ACTGGTCC ... GCGATTTT44  43  42  ...  20  19  18Acceptor distancePPT start2025303540450102030−7.5−5.0−2.50.02.5Branchpointlog−oddseCLIPCLIP (iDeep)branchpoint0.40.60.80.50.60.70.80.90.570.600.630.660.570.600.630.660.50.60.70.80.90.40.60.8auPR with piecewise lin.\",\n",
       " 'Speciﬁc\\nprimers were used for PR1, PDF1.2a, and PAL1 (Bouizgarne et al.,\\n2006).',\n",
       " 'The ﬂuorescence associated to JC-1\\nwas measured after 15 min and 3 h for control cells, cells treated with 1 lM valinomycin or with 10 lM TXT.',\n",
       " 'expressed as follows.',\n",
       " 'DSD: two dogs are playing in the grass.Baseline:  a boy in a red shirt is climbing a rock wall.',\n",
       " 'Considering the view combination,\\n\\nis intuitively be-\\nlieved that more views will provide more information and\\nmore accurate pose estimation performance.',\n",
       " 'Since\\nim(µXS ) = P erm(Xt), the action of im(µ ˜XS ) on Xt ×Xt has two orbits, namely\\n{(x, x)} ∼= Xt and {(x, y)|x 6= y}.']"
      ]
     },
     "metadata": {},
     "execution_count": 156
    }
   ],
   "source": [
    "salient_sentences"
   ]
  },
  {
   "cell_type": "code",
   "execution_count": 159,
   "metadata": {},
   "outputs": [
    {
     "output_type": "stream",
     "name": "stdout",
     "text": [
      "However,\nwhen the only visual image sequences are given, the feature\nvectors are not so clearly separated that the repeated recall-\ning in multimodal autoencoder would not improve.\n------\nThe Digitalized K Domain is well known but on the contrary, the K’ Domain as depicted in this document is \nalmost undefined today;  as we only have people interacting against K, and now suggest a set of conjectures under \nwhich (K + K’) would work.\n==========\nOur model consists of encoder and\ndecoder LSTMs and multimodal autoencoder.\n------\nIf the discipline that actually handles Knowledge is KM, Knowledge \nManagement, our aim is to create the basement of an enhanced management system that handles (K + K’) instead, \nwhere K corresponds to the actual formal established knowledge and K’ corresponds to the actual “informal” \nPeople’s knowledge.\n==========\n4 Discussion\n\nHere we have introduced spline transformations, a module for neural\nnetworks, and demonstrated that it is an effective way to model relative\n\n...ACTCTCACTGTGACCTTCTCTTTCCCAGCAT...AG...AGNucleotide compositionNucleotide compositionDistance to 5' exonDistance to 3' exonDistance to PPTPPT lengthDistances to AG dinucleotides*a0.900.920.94Area under ROC curve0.500.550.600.65Area under Precision−Recall curveowcbed  Model PWM (Inferred)Branchpoint−centered PWM (Data)123456789101112345678910110.00.40.81.2Bits3' exon distanceModel version:   deep   shallowBinary softmax lossSpline transformation.. 0 0 0 0 0 0 0 0 1 0 0 0 1 NA 0 .. DropoutConcatenateConv1DConv1DDropoutx#hidden: 2, 0RNA sequenceConv1DACGT#(cid:1)lters: 128, 1ACTGGTCC ... GCGATTTT44  43  42  ...  20  19  18Acceptor distancePPT start2025303540450102030−7.5−5.0−2.50.02.5Branchpointlog−oddseCLIPCLIP (iDeep)branchpoint0.40.60.80.50.60.70.80.90.570.600.630.660.570.600.630.660.50.60.70.80.90.40.60.8auPR with piecewise lin.\n------\nTowards a New Digitalized Knowledge Paradigm \n \n\nDr. JUAN CHAMERO \nArtificial Intelligence Lab \nCAECE University \nBuenos Aires \nARGENTINA \n\n \n \nAbstract:- We propose a new Digitalized Knowledge paradigm that takes into consideration the People’s \nintelligence as users of Cyber space.\n==========\nSpeciﬁc\nprimers were used for PR1, PDF1.2a, and PAL1 (Bouizgarne et al.,\n2006).\n------\n7 Thematic Thesauri  \nThe set of keywords of a discipline and its related \nlogical tree is called a “Thesaurus”.\n==========\nThe ﬂuorescence associated to JC-1\nwas measured after 15 min and 3 h for control cells, cells treated with 1 lM valinomycin or with 10 lM TXT.\n------\nIf for a question A he obtains, lets say, an \nuncertainty of 10000 (measured in amount of \npossible answers to his needs), he will elaborate a \nsecond question B that will probably reduce his \nuncertainty to, for example, 1000 and so forth until \nhe finds a satisfactory answer of an uncertainty equal \nto 1 that indicates certainty: he finally found what he \nwas looking for.\n==========\nexpressed as follows.\n------\nWorks “speak for \nthemselves”.\n==========\nDSD: two dogs are playing in the grass.Baseline:  a boy in a red shirt is climbing a rock wall.\n------\nBoy scouts need to \nmaster some abilities like making knots, how to pitch \na tent, how to live and survive in the wild, how to \npreserve nature, how to make signals outdoors, and \nmany other things.\n==========\nConsidering the view combination,\n\nis intuitively be-\nlieved that more views will provide more information and\nmore accurate pose estimation performance.\n------\nUnder this new paradigm the progressive creation of the K’ triad is feasible, providing \nus a new way to enhance knowledge management.\n==========\nSince\nim(µXS ) = P erm(Xt), the action of im(µ ˜XS ) on Xt ×Xt has two orbits, namely\n{(x, x)} ∼= Xt and {(x, y)|x 6= y}.\n------\nAs a second step we try to define an equivalent and symmetric triad for the \nother side K’.\n==========\n"
     ]
    }
   ],
   "source": [
    "for i in range(N):\n",
    "    print(salient_sentences[i])\n",
    "    print('------')\n",
    "    print(corp_sent[by_cluster.get_group(i).index[0]])\n",
    "    print('==========')"
   ]
  },
  {
   "cell_type": "code",
   "execution_count": null,
   "metadata": {},
   "outputs": [],
   "source": []
  }
 ]
}