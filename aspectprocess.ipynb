{
 "cells": [
  {
   "cell_type": "code",
   "execution_count": 1,
   "metadata": {},
   "outputs": [
    {
     "data": {
      "text/plain": [
       "['bags_and_cases-dev.asp',\n",
       " 'bags_and_cases-tst.asp',\n",
       " 'bluetooth-dev.asp',\n",
       " 'bluetooth-tst.asp',\n",
       " 'boots-dev.asp',\n",
       " 'boots-tst.asp',\n",
       " 'keyboards-dev.asp',\n",
       " 'keyboards-tst.asp',\n",
       " 'tv-dev.asp',\n",
       " 'tv-tst.asp',\n",
       " 'vacuums-dev.asp',\n",
       " 'vacuums-tst.asp']"
      ]
     },
     "execution_count": 1,
     "metadata": {},
     "output_type": "execute_result"
    }
   ],
   "source": [
    "import os\n",
    "import json\n",
    "\n",
    "def encodeaspects(line, filename):\n",
    "    line = line.split('|')\n",
    "    aspects = {}\n",
    "    for i in range(0, len(line)):\n",
    "        aspects[i] = line[i]\n",
    "    out_file = open(os.path.join('./Preprocessed_Aspects/',filename+'.json'), \"w\") \n",
    "    json.dump(aspects, out_file, indent = 6) \n",
    "    out_file.close() \n",
    "\n",
    "        \n",
    "def createCSV(root, filename):\n",
    "    print(filename)\n",
    "    file1 = open(root + filename, \n",
    "                 'r') \n",
    "    import pandas as pd\n",
    "    l = False\n",
    "    a = []\n",
    "    dictionary = {\"sentence\" : [], \"aspect\" : []}\n",
    "    for line in file1.readlines(): \n",
    "        if not l:\n",
    "            line = line[:len(line)-1]\n",
    "            encodeaspects(line, filename)\n",
    "            l = True\n",
    "            continue\n",
    "        if not (line.startswith('B00')): \n",
    "            if line != '\\n':\n",
    "                line.rstrip(\"\\n\")\n",
    "                line = line.split('\\t')\n",
    "                dictionary[\"sentence\"].append(line[0])\n",
    "                dictionary[\"aspect\"].append(line[1][:1])\n",
    "    file1.close()\n",
    "    df = pd.DataFrame(dictionary)\n",
    "    df.to_csv(os.path.join('./Preprocessed_Aspects/',filename+'.csv'))\n",
    "    df.to_csv(filename + '.csv')\n",
    "import os\n",
    "os.listdir('./data/gold/aspects')"
   ]
  },
  {
   "cell_type": "code",
   "execution_count": 2,
   "metadata": {},
   "outputs": [
    {
     "name": "stdout",
     "output_type": "stream",
     "text": [
      "bags_and_cases-dev.asp\n",
      "bags_and_cases-tst.asp\n",
      "bluetooth-dev.asp\n",
      "bluetooth-tst.asp\n",
      "boots-dev.asp\n",
      "boots-tst.asp\n",
      "keyboards-dev.asp\n",
      "keyboards-tst.asp\n",
      "tv-dev.asp\n",
      "tv-tst.asp\n",
      "vacuums-dev.asp\n",
      "vacuums-tst.asp\n"
     ]
    }
   ],
   "source": [
    "for doc in os.listdir('./data/gold/aspects'):\n",
    "    createCSV('./data/gold/aspects/',doc)\n",
    "    "
   ]
  },
  {
   "cell_type": "code",
   "execution_count": null,
   "metadata": {},
   "outputs": [],
   "source": []
  },
  {
   "cell_type": "code",
   "execution_count": null,
   "metadata": {},
   "outputs": [],
   "source": []
  }
 ],
 "metadata": {
  "kernelspec": {
   "display_name": "Python 3",
   "language": "python",
   "name": "python3"
  },
  "language_info": {
   "codemirror_mode": {
    "name": "ipython",
    "version": 3
   },
   "file_extension": ".py",
   "mimetype": "text/x-python",
   "name": "python",
   "nbconvert_exporter": "python",
   "pygments_lexer": "ipython3",
   "version": "3.8.0"
  }
 },
 "nbformat": 4,
 "nbformat_minor": 4
}
