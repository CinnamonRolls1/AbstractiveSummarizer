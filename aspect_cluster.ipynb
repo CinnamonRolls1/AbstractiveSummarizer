{
 "cells": [
  {
   "cell_type": "code",
   "execution_count": 108,
   "metadata": {},
   "outputs": [],
   "source": [
    "import spacy\n",
    "from sklearn import cluster as sk\n",
    "import json"
   ]
  },
  {
   "cell_type": "code",
   "execution_count": 109,
   "metadata": {},
   "outputs": [],
   "source": [
    "NUM_CLUSTERS = 8\n",
    "def init_spacy():\n",
    "    print(\"\\nLoading spaCy Model....\")\n",
    "    nlp = spacy.load('en_core_web_sm')\n",
    "    print(\"spaCy successfully loaded\")\n",
    "    return nlp"
   ]
  },
  {
   "cell_type": "code",
   "execution_count": 110,
   "metadata": {},
   "outputs": [],
   "source": [
    "def get_word_vectors(unique_aspects, nlp):\n",
    "    asp_vectors = []\n",
    "    for aspect in unique_aspects:\n",
    "        token = nlp(aspect)\n",
    "        asp_vectors.append(token.vector)\n",
    "    return asp_vectors"
   ]
  },
  {
   "cell_type": "code",
   "execution_count": 111,
   "metadata": {},
   "outputs": [],
   "source": [
    "def get_word_clusters(unique_aspects, nlp):\n",
    "    # print(\"Found {} unique aspects for this product\".format(len(unique_aspects)))\n",
    "    asp_vectors = get_word_vectors(unique_aspects, nlp)\n",
    "    if len(unique_aspects) <= NUM_CLUSTERS:\n",
    "        # print(\"Too few aspects ({}) found. No clustering required...\".format(len(unique_aspects)))\n",
    "        return list(range(len(unique_aspects)))\n",
    "\n",
    "    # print(\"Running k-means clustering...\")\n",
    "    n_clusters = NUM_CLUSTERS\n",
    "    kmeans = sk.KMeans(n_clusters=n_clusters)\n",
    "    kmeans.fit(asp_vectors)\n",
    "    labels = kmeans.labels_\n",
    "\n",
    "    return labels"
   ]
  },
  {
   "cell_type": "code",
   "execution_count": 113,
   "metadata": {},
   "outputs": [
    {
     "name": "stdout",
     "output_type": "stream",
     "text": [
      "\n",
      "Loading spaCy Model....\n",
      "spaCy successfully loaded\n"
     ]
    }
   ],
   "source": [
    "def cluster_init():\n",
    "    clusters = {}\n",
    "    for i in range(NUM_CLUSTERS):\n",
    "        clusters[i] = []\n",
    "    return clusters\n",
    "\n",
    "\n",
    "f = open ('product_aspects.json', \"r\") \n",
    "product_aspects = json.loads(f.read())\n",
    "product_clusters = {}\n",
    "nlp = init_spacy()\n",
    "for product in product_aspects:\n",
    "    clusters = cluster_init()\n",
    "    cluster = get_word_clusters(product_aspects[product], nlp)\n",
    "    for i in range(len(cluster)):\n",
    "        clusters[cluster[i]].append(product_aspects[product][i])\n",
    "    product_clusters[product] = clusters\n",
    "out_file = open(\"aspect_cluster.json\", \"w\") \n",
    "  \n",
    "json.dump(product_clusters, out_file, indent = 6) \n",
    "  \n",
    "out_file.close() "
   ]
  }
 ],
 "metadata": {
  "kernelspec": {
   "display_name": "Python 3",
   "language": "python",
   "name": "python3"
  },
  "language_info": {
   "codemirror_mode": {
    "name": "ipython",
    "version": 3
   },
   "file_extension": ".py",
   "mimetype": "text/x-python",
   "name": "python",
   "nbconvert_exporter": "python",
   "pygments_lexer": "ipython3",
   "version": "3.7.7"
  }
 },
 "nbformat": 4,
 "nbformat_minor": 4
}
