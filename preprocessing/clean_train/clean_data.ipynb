{
 "metadata": {
  "language_info": {
   "codemirror_mode": {
    "name": "ipython",
    "version": 3
   },
   "file_extension": ".py",
   "mimetype": "text/x-python",
   "name": "python",
   "nbconvert_exporter": "python",
   "pygments_lexer": "ipython3",
   "version": "3.6.9-final"
  },
  "orig_nbformat": 2,
  "kernelspec": {
   "name": "python36964bitenvvenvde88aacb140049cab59668ffa038508f",
   "display_name": "Python 3.6.9 64-bit ('env': venv)"
  }
 },
 "nbformat": 4,
 "nbformat_minor": 2,
 "cells": [
  {
   "cell_type": "code",
   "execution_count": 14,
   "metadata": {},
   "outputs": [],
   "source": [
    "import json\n",
    "from clean_text import preprocess\n"
   ]
  },
  {
   "cell_type": "code",
   "execution_count": 15,
   "metadata": {
    "tags": []
   },
   "outputs": [
    {
     "output_type": "stream",
     "name": "stdout",
     "text": "vacuums.json\nbags_and_cases.json\nboots.json\nbluetooth.json\nkeyboards.json\ntv.json\n"
    }
   ],
   "source": [
    "directory = r\"../extract_train/jsons/\"\n",
    "for filename in os.listdir(directory):\n",
    "    if filename.endswith(\".json\"):\n",
    "        print(filename)\n",
    "        fname=os.path.join(directory, filename)\n",
    "        with open(fname) as f:\n",
    "            data = json.load(f)\n",
    "        #print(out)\n",
    "        for review in data:\n",
    "            for i in range(len(data[review][\"edus\"])):\n",
    "                data[review][\"edus\"][i] = preprocess(data[review][\"edus\"][i])\n",
    "        out_name = fname.split('.')[2].split(\"/\")[-1]\n",
    "        out_name += \"_clean\"\n",
    "        with open(out_name+'.json','w+') as jfile:\n",
    "            json.dump(data,jfile,indent=4)\n",
    "        break\n",
    "    else:\n",
    "        continue"
   ]
  },
  {
   "cell_type": "code",
   "execution_count": null,
   "metadata": {},
   "outputs": [],
   "source": []
  },
  {
   "cell_type": "code",
   "execution_count": null,
   "metadata": {},
   "outputs": [],
   "source": []
  },
  {
   "cell_type": "code",
   "execution_count": null,
   "metadata": {},
   "outputs": [],
   "source": []
  }
 ]
}