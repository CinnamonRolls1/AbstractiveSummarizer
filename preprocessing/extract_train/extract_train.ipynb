{
 "metadata": {
  "language_info": {
   "codemirror_mode": {
    "name": "ipython",
    "version": 3
   },
   "file_extension": ".py",
   "mimetype": "text/x-python",
   "name": "python",
   "nbconvert_exporter": "python",
   "pygments_lexer": "ipython3",
   "version": "3.7.6-final"
  },
  "orig_nbformat": 2,
  "kernelspec": {
   "name": "python3",
   "display_name": "Python 3"
  }
 },
 "nbformat": 4,
 "nbformat_minor": 2,
 "cells": [
  {
   "cell_type": "code",
   "execution_count": 5,
   "metadata": {},
   "outputs": [],
   "source": [
    "import json\n",
    "import re"
   ]
  },
  {
   "cell_type": "code",
   "execution_count": 45,
   "metadata": {
    "tags": []
   },
   "outputs": [],
   "source": [
    "#creation\n",
    "filename='bags_and_cases.trn'\n",
    "with open(filename, 'r') as trainfile:\n",
    "    review_items=trainfile.read().split('\\n\\n')\n",
    "jsonobj={}\n",
    "for item in review_items[:-1]: #last element is empty\n",
    "    top=re.split('[- ]',item.split('\\n')[0])\n",
    "    review_string='\\n'.join(item.split('\\n')[1:])\n",
    "    edus=re.split('EDU_BREAK', review_string)\n",
    "\n",
    "    review={}\n",
    "    review['entity_id']=top[0]\n",
    "    review['review_index']=top[1]\n",
    "    review['review_rating']=top[2]\n",
    "    review['edus']=edus\n",
    "    jsonobj.update({''.join(top):review})\n"
   ]
  },
  {
   "cell_type": "code",
   "execution_count": 46,
   "metadata": {},
   "outputs": [
    {
     "output_type": "execute_result",
     "data": {
      "text/plain": [
       "{'entity_id': 'B00JO6UGFU',\n",
       " 'review_index': '0007',\n",
       " 'review_rating': '4',\n",
       " 'edus': ['As the name implies , ',\n",
       "  \" this envelop-shaped cover case 14 '' \",\n",
       "  \" x 9 '' is made specifically to fit the MacBook Air ; \",\n",
       "  ' but it also can be used for most other mini Laptops .\\nThe elegantly designed ',\n",
       "  \" case is made of sturdy but soft -LRB- &#8539; '' thick -RRB- heather grey \",\n",
       "  ' felt , ',\n",
       "  \" accented with tan leather .\\nThe stitching is uniform and strong .\\nA 4 '' x 3 '' patch of leather is strategically \",\n",
       "  ' placed at the bottom ',\n",
       "  ' to allow for a non-slip grip .\\nThe main compartment is lined by smooth soft flannel ',\n",
       "  ' to prevent scratching of contents .\\nIt also has a fold-in divider ',\n",
       "  ' that comes in handy ',\n",
       "  \" when carrying my MacBook Air and an iPad , or a pad/few papers etc. .\\nTwo flat pockets with slit openings , each 5 '' deep and 4 . 5 '' and 3 . 75 '' wide respectively are found on the back of the case \",\n",
       "  \" and serve to carry a mobile phone , iPod , earbuds , a thin flat battery recharger or a small external drive .\\nThe case is not meant to protect against damage from dropping on hard floor or a heavy direct knock .\\nA separate matching felt case 4 . 25 '' x 3 . 5 '' \",\n",
       "  \" is included for carrying bulky power cords and wall plugs .\\nAnother high quality item from `` Inateck '' . They seemed to have thought of all possibilities \",\n",
       "  ' to make this attractive case very functional and useful .\\nAlthough the price is surprisingly low , ',\n",
       "  ' it is a very good value .\\nThere is nothing cheap about it .\\nA complimentary sample was provided for review']}"
      ]
     },
     "metadata": {},
     "execution_count": 46
    }
   ],
   "source": [
    "#demo for bags and cases\n",
    "jsonobj['B00JO6UGFU00074'] "
   ]
  },
  {
   "cell_type": "code",
   "execution_count": 44,
   "metadata": {},
   "outputs": [],
   "source": [
    "#dumping\n",
    "with open(filename.split('.')[0]+'.json','w+') as jfile:\n",
    "    json.dump(jsonobj,jfile,indent=4)"
   ]
  },
  {
   "cell_type": "code",
   "execution_count": null,
   "metadata": {},
   "outputs": [],
   "source": []
  }
 ]
}