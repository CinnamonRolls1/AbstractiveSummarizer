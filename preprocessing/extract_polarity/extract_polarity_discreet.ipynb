{
 "metadata": {
  "language_info": {
   "codemirror_mode": {
    "name": "ipython",
    "version": 3
   },
   "file_extension": ".py",
   "mimetype": "text/x-python",
   "name": "python",
   "nbconvert_exporter": "python",
   "pygments_lexer": "ipython3",
   "version": "3.6.9-final"
  },
  "orig_nbformat": 2,
  "kernelspec": {
   "name": "python_defaultSpec_1604664250240",
   "display_name": "Python 3.6.9 64-bit"
  }
 },
 "nbformat": 4,
 "nbformat_minor": 2,
 "cells": [
  {
   "cell_type": "code",
   "execution_count": 58,
   "metadata": {},
   "outputs": [],
   "source": [
    "import re\n",
    "import json\n",
    "\n",
    "def extract(filename):\n",
    "    with open(filename, 'r') as polfile:\n",
    "        items=polfile.read().split('\\n\\n')\n",
    "    jsonobj={}\n",
    "    for item in items[:-1]:\n",
    "        top=item.split(\"\\n\")[0].split(\" \")\n",
    "        edus=item.split('\\n')[1:]\n",
    "        review = {}\n",
    "        review[\"rating\"]=top[0]\n",
    "        i=0\n",
    "        for edu in edus:\n",
    "            #print(edu)\n",
    "            sent={}\n",
    "            pol = edu.split(\"\\t\")\n",
    "            #print(pol[1])\n",
    "            sent[\"pol\"]=pol[0]\n",
    "            sent[\"text\"]=pol[1]\n",
    "            review[i]=sent\n",
    "            i+=1\n",
    "        jsonobj[top[1]]=review\n",
    "\n",
    "    return jsonobj"
   ]
  },
  {
   "cell_type": "code",
   "execution_count": 59,
   "metadata": {
    "tags": []
   },
   "outputs": [
    {
     "output_type": "stream",
     "name": "stdout",
     "text": "./discrete/boots.lbl\n./discrete/tv.lbl\n./discrete/keyboards.lbl\n./discrete/bags_and_cases.lbl\n./discrete/vacuums.lbl\n./discrete/bluetooth.lbl\n"
    }
   ],
   "source": [
    "directory = r\"./discrete\"\n",
    "for filename in os.listdir(directory):\n",
    "    if filename.endswith(\".lbl\"):\n",
    "        #print(filename)\n",
    "        f=os.path.join(directory, filename)\n",
    "        out =extract(f)\n",
    "        #print(out)\n",
    "        print(f)\n",
    "        with open(\".\"+f.split('.')[1]+'.json','w+') as jfile:\n",
    "            json.dump(out,jfile,indent=4)\n",
    "    else:\n",
    "        continue"
   ]
  },
  {
   "cell_type": "code",
   "execution_count": null,
   "metadata": {},
   "outputs": [],
   "source": []
  }
 ]
}